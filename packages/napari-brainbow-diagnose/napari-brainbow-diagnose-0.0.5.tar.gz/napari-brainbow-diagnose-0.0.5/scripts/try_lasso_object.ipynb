{
 "cells": [
  {
   "cell_type": "code",
   "execution_count": 7,
   "metadata": {},
   "outputs": [],
   "source": [
    "import napari\n",
    "from napari_brainbow_diagnose import DensityWidget\n",
    "from napari_brainbow_diagnose import fetch_chroms_data\n",
    "\n",
    "bb = fetch_chroms_data()\n",
    "viewer = napari.Viewer()\n",
    "\n",
    "viewer.add_image(bb[:,0], name=\"red\", colormap='red', blending='additive')\n",
    "viewer.add_image(bb[:,1], name=\"green\", colormap='green', blending='additive')\n",
    "viewer.add_image(bb[:,2], name=\"blue\", colormap='blue', blending='additive')\n",
    "viewer.layers.select_all()"
   ]
  },
  {
   "cell_type": "code",
   "execution_count": 8,
   "metadata": {},
   "outputs": [
    {
     "data": {
      "text/plain": [
       "<napari._qt.widgets.qt_viewer_dock_widget.QtViewerDockWidget at 0x7f107dae3f40>"
      ]
     },
     "execution_count": 8,
     "metadata": {},
     "output_type": "execute_result"
    }
   ],
   "source": [
    "import napari\n",
    "import numpy as np\n",
    "from magicgui import magic_factory\n",
    "\n",
    "wdg = DensityWidget(viewer)\n",
    "viewer.window.add_dock_widget(wdg)"
   ]
  }
 ],
 "metadata": {
  "kernelspec": {
   "display_name": "napari-brainbow-diagnose",
   "language": "python",
   "name": "python3"
  },
  "language_info": {
   "codemirror_mode": {
    "name": "ipython",
    "version": 3
   },
   "file_extension": ".py",
   "mimetype": "text/x-python",
   "name": "python",
   "nbconvert_exporter": "python",
   "pygments_lexer": "ipython3",
   "version": "3.10.8"
  },
  "orig_nbformat": 4,
  "vscode": {
   "interpreter": {
    "hash": "43ee91145c922d2e42be648e0fbba75d31d31c2105f719bd9c2a526342ab3ff8"
   }
  }
 },
 "nbformat": 4,
 "nbformat_minor": 2
}
