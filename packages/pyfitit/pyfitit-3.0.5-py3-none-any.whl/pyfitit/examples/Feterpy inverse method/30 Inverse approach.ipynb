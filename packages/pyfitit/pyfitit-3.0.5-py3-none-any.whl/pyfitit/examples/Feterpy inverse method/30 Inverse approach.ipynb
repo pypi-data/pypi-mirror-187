{
 "cells": [
  {
   "cell_type": "markdown",
   "metadata": {
    "collapsed": true
   },
   "source": [
    "## 3.1 Import libraries, project file and experiment"
   ]
  },
  {
   "cell_type": "code",
   "execution_count": 1,
   "metadata": {},
   "outputs": [
    {
     "data": {
      "text/html": [
       "<style>\n",
       "        .container { width:100% !important; }\n",
       "        .output_area {display:inline-block !important; }\n",
       "        .cell > .output_wrapper > .output {margin-left: 14ex;}\n",
       "        .out_prompt_overlay.prompt {min-width: 14ex;}\n",
       "        .fitBySlidersOutput {flex-direction:row !important; }\n",
       "        /*.fitBySlidersOutput .p-Widget.jupyter-widgets-output-area.output_wrapper {display:none} - прячет ошибки*/\n",
       "        .fitBySlidersOutput div.output_subarea {max-width: inherit}\n",
       "        .fitBySlidersExafsOutput {flex-direction:row !important; }\n",
       "        /*.fitBySlidersExafsOutput .p-Widget.jupyter-widgets-output-area.output_wrapper {display:none} - прячет ошибки*/\n",
       "        .fitBySlidersExafsOutput div.output_subarea {max-width: inherit}\n",
       "        .pcaOutput { display:block; }\n",
       "        .pcaOutput div.output_subarea {max-width: inherit}\n",
       "        .pcaOutput .output_subarea .widget-hbox { place-content: initial!important; }\n",
       "        .pcaOutput > .output_area:nth-child(2) {float:left !important; }\n",
       "        .pcaOutput > .output_area:nth-child(3) {display:block !important; }\n",
       "        .pcaOutput > .output_area:nth-child(4) { /* width:100%; */ }\n",
       "        .status { white-space: pre; }\n",
       "\n",
       "        .fileBrowser {margin-left:14ex; display:block; }\n",
       "        .fileBrowser div.p-Panel {display:block; }\n",
       "        .fileBrowser button.folder { font-weight:bold; }\n",
       "        .fileBrowser button.parentFolder { font-size:200%; }\n",
       "\n",
       "        .widget-inline-hbox .widget-label {width:auto}\n",
       "        </style>"
      ],
      "text/plain": [
       "<IPython.core.display.HTML object>"
      ]
     },
     "metadata": {},
     "output_type": "display_data"
    },
    {
     "data": {
      "text/html": [
       "<style>\n",
       "        .container { width:100% !important; }\n",
       "        .output_area {display:inline-block !important; }\n",
       "        .cell > .output_wrapper > .output {margin-left: 14ex;}\n",
       "        .out_prompt_overlay.prompt {min-width: 14ex;}\n",
       "        .fitBySlidersOutput {flex-direction:row !important; }\n",
       "        /*.fitBySlidersOutput .p-Widget.jupyter-widgets-output-area.output_wrapper {display:none} - прячет ошибки*/\n",
       "        .fitBySlidersOutput div.output_subarea {max-width: inherit}\n",
       "        .fitBySlidersExafsOutput {flex-direction:row !important; }\n",
       "        /*.fitBySlidersExafsOutput .p-Widget.jupyter-widgets-output-area.output_wrapper {display:none} - прячет ошибки*/\n",
       "        .fitBySlidersExafsOutput div.output_subarea {max-width: inherit}\n",
       "        .pcaOutput { display:block; }\n",
       "        .pcaOutput div.output_subarea {max-width: inherit}\n",
       "        .pcaOutput .output_subarea .widget-hbox { place-content: initial!important; }\n",
       "        .pcaOutput > .output_area:nth-child(2) {float:left !important; }\n",
       "        .pcaOutput > .output_area:nth-child(3) {display:block !important; }\n",
       "        .pcaOutput > .output_area:nth-child(4) { /* width:100%; */ }\n",
       "        .status { white-space: pre; }\n",
       "\n",
       "        .fileBrowser {margin-left:14ex; display:block; }\n",
       "        .fileBrowser div.p-Panel {display:block; }\n",
       "        .fileBrowser button.folder { font-weight:bold; }\n",
       "        .fileBrowser button.parentFolder { font-size:200%; }\n",
       "\n",
       "        .widget-inline-hbox .widget-label {width:auto}\n",
       "        </style>"
      ],
      "text/plain": [
       "<IPython.core.display.HTML object>"
      ]
     },
     "metadata": {},
     "output_type": "display_data"
    }
   ],
   "source": [
    "%matplotlib inline\n",
    "from pyfitit import *\n",
    "\n",
    "project = loadProject('FeterpyProject.py', expFile = 'exp_ground.txt')"
   ]
  },
  {
   "cell_type": "markdown",
   "metadata": {},
   "source": [
    "## 3.2 Import training set"
   ]
  },
  {
   "cell_type": "code",
   "execution_count": 2,
   "metadata": {},
   "outputs": [],
   "source": [
    "sample = readSample('IHS_729')\n",
    "sampleCompare = readSample('line_200')"
   ]
  },
  {
   "cell_type": "markdown",
   "metadata": {},
   "source": [
    "## 3.3 Compare different machine learning methods\n",
    "**sampleTest** should be line-sample\n",
    "\n",
    "Spectra are smoothed **before** training and prediction"
   ]
  },
  {
   "cell_type": "code",
   "execution_count": null,
   "metadata": {
    "scrolled": false
   },
   "outputs": [],
   "source": [
    "compareDifferentInverseMethods(sampleTrain = sample, sampleTest = sampleCompare, \n",
    "    energyPoint=7143, geometryParam='centralRing1_Shift',\n",
    "    project=project, folderToSaveResult = 'results/inverseMethodsCompare')"
   ]
  },
  {
   "cell_type": "markdown",
   "metadata": {},
   "source": [
    "## 3.4 Construct the inverse estimator"
   ]
  },
  {
   "cell_type": "code",
   "execution_count": 3,
   "metadata": {},
   "outputs": [],
   "source": [
    "inverseEstimator = constructInverseEstimator('RBF', project, project.FDMNES_smooth, \n",
    "                CVcount=4, folderToSaveCVresult='results/inverseEstimator_CVresult')"
   ]
  },
  {
   "cell_type": "markdown",
   "metadata": {},
   "source": [
    "## 3.5 Train the estimator"
   ]
  },
  {
   "cell_type": "code",
   "execution_count": 4,
   "metadata": {
    "scrolled": false
   },
   "outputs": [
    {
     "name": "stdout",
     "output_type": "stream",
     "text": [
      "Inverse method relative to constant prediction error = 0.201\n",
      "\n"
     ]
    }
   ],
   "source": [
    "inverseEstimator.fit(sample)"
   ]
  },
  {
   "cell_type": "markdown",
   "metadata": {},
   "source": [
    "## 3.6 Start automatic fit"
   ]
  },
  {
   "cell_type": "code",
   "execution_count": null,
   "metadata": {
    "scrolled": false
   },
   "outputs": [
    {
     "name": "stdout",
     "output_type": "stream",
     "text": [
      "targetFunction = 0.0014551918368610102 centralRing1_Shift=0.010736  centralRing2_Shift=-0.10471  sideRings1_Elong=0.059466  sideRings1_Shift=-0.073252  sideRings2_Elong=-0.054477  sideRings2_Shift=-0.066558\n"
     ]
    }
   ],
   "source": [
    "# plotContourMaps = 'all' or list of graph axis name lists: [['param1', 'param2'], ['param3'], ['param4', 'param5']]\n",
    "# contourMapCalcMethod = 'fast' or 'thorough'\n",
    "bestMin = inverseMethod.findGlobalL2NormMinimum(1, inverseEstimator, \n",
    "                        folderToSaveResult = 'results/inverseMethodResults', \n",
    "                        plotContourMaps='all', contourMapCalcMethod='thorough')"
   ]
  },
  {
   "cell_type": "code",
   "execution_count": null,
   "metadata": {},
   "outputs": [],
   "source": []
  }
 ],
 "metadata": {
  "kernelspec": {
   "display_name": "Python 3 (ipykernel)",
   "language": "python",
   "name": "python3"
  },
  "language_info": {
   "codemirror_mode": {
    "name": "ipython",
    "version": 3
   },
   "file_extension": ".py",
   "mimetype": "text/x-python",
   "name": "python",
   "nbconvert_exporter": "python",
   "pygments_lexer": "ipython3",
   "version": "3.9.12"
  }
 },
 "nbformat": 4,
 "nbformat_minor": 2
}
