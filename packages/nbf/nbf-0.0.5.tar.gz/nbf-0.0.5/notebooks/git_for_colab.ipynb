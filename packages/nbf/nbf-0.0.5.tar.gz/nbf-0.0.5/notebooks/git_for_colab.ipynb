{
  "nbformat": 4,
  "nbformat_minor": 0,
  "metadata": {
    "colab": {
      "provenance": []
    },
    "kernelspec": {
      "name": "python3",
      "display_name": "Python 3"
    },
    "language_info": {
      "name": "python"
    }
  },
  "cells": [
    {
      "cell_type": "markdown",
      "source": [
        "- pretty view git messages ala nbdime\n",
        "- simplified notebook workflow\n",
        "\n",
        "- nb2repo: save current notebook to repo dir\n",
        "- drive_nb2repo_nb: all previously committed drive notebooks to repo\n",
        "- git_commit, etc. do nb2repo first\n",
        "- set up global git email and user\n",
        "- github CLI download and a few functions, create private repo, create issue...\n"
      ],
      "metadata": {
        "id": "ie5qgEuzepqp"
      }
    },
    {
      "cell_type": "code",
      "source": [
        "import os"
      ],
      "metadata": {
        "id": "uRnD1E8cNRm1",
        "executionInfo": {
          "status": "ok",
          "timestamp": 1674324095199,
          "user_tz": 540,
          "elapsed": 433,
          "user": {
            "displayName": "Jaci ss",
            "userId": "10130648813270993501"
          }
        }
      },
      "execution_count": 1,
      "outputs": []
    },
    {
      "cell_type": "markdown",
      "source": [
        "# get environment"
      ],
      "metadata": {
        "id": "YnfrKngMzcW4"
      }
    },
    {
      "cell_type": "code",
      "source": [
        "# %%snippet -s -r -e first_cell\n",
        "if 'c' not in globals():\n",
        "  !pip install nbf\n",
        "  from nbf import epc\n",
        "  c = epc.do_setup({'resources':{'nbf':{}}, 'keyring':'bit.ly/3QPP1bs'})\n",
        "  %run {c.get('nb_dir')}notebooks_as_features.ipynb\n",
        "  logger = epc.get_logger(c.get('nb_name'))\n",
        "else: \n",
        "  !cd {c['project_path']} && git pull"
      ],
      "metadata": {
        "colab": {
          "base_uri": "https://localhost:8080/"
        },
        "id": "kXqUqesd0IcI",
        "executionInfo": {
          "status": "ok",
          "timestamp": 1674324107323,
          "user_tz": 540,
          "elapsed": 11767,
          "user": {
            "displayName": "Jaci ss",
            "userId": "10130648813270993501"
          }
        },
        "outputId": "2dcefc89-e8f6-4a4d-ebbf-a68fd1a3046e"
      },
      "execution_count": 2,
      "outputs": [
        {
          "output_type": "stream",
          "name": "stdout",
          "text": [
            "Looking in indexes: https://pypi.org/simple, https://us-python.pkg.dev/colab-wheels/public/simple/\n",
            "Requirement already satisfied: nbf in /usr/local/lib/python3.8/dist-packages (0.0.4)\n"
          ]
        },
        {
          "output_type": "stream",
          "name": "stderr",
          "text": [
            "2023-01-21 18:01:44 epc INFO     epc.config_dict(c): may be overridden by `c[setting_name]`\n",
            "2023-01-21 09:01:44 epc INFO     log_level: DEBUG\n",
            "2023-01-21 09:01:44 epc INFO     timezone: America/Anchorage\n",
            "2023-01-21 09:01:44 epc INFO     use_google_drive: False\n",
            "2023-01-21 09:01:44 epc INFO     epc: U2FsdGVkX1+q8onitIzydG8ZC+SdDrKgTQQl1L91LHTkNXknnga+XIEkZk8KRPG4gMpief6NNazpIu2RK3IAYKeo3B4UCQsbQLm78nktkSxt/ZIYpnneoDvD/J3vYoCDLDExrEJ8AIVAdS6n9HBKHl/4ouEA78XQc+vh5qb1nkvneiBX3LYK01KQh0SMwJQqd/o3IU9G2o6cyEur0Ys6GT6P5qX8Osg11wlJkPsPPT6wlb2OI/HZA+oouuT2/RIoHJr0BdgxOZ+3dbjOaXj5GVC2NImuqRZFQuR0CyV5tQriNioxt6Lp3gqoRxsfWLCWNOpH2EgErEdeu8qmWyrp3iRa0MaxQ8MBmDO86ozE8a+3BlNit1yx1W0FHJVOBsTP8L6qD14rMmuqHuUgvCtLs2KGss6wu6hrdiqFeohqQ2KdE39ahW+xpBW5osO3d5ZXbGCQjmH3czneZ8vnGZDXD8JKEOcZIy31FmVGNkp0LwghGDmhjNmYLwnxTy5Zgbjh/P8+PxHaKLJzwv+r7a4YCunVOb2503kZiWuikb2XpKSTPTIgX38g7l28E+sgIzrzMZivf7+gTxJv3LViG/K0eL6x+NAuYosT9xRfDPLXIJDeIEFTD7/1uWqO5heicQo/NoOHl8WcxMqk1RSl/kzpe3ldyb2CCSroGQSbrJAAOb7gJS2/rmyrwE4UFo3ojfsy\n",
            "2023-01-21 09:01:44 epc INFO     resources: {'nbf': {}}\n",
            "2023-01-21 09:01:44 epc INFO     keyring: bit.ly/3QPP1bs\n",
            "2023-01-21 09:01:44 epc INFO     setup_commands: []\n",
            "2023-01-21 09:01:44 epc INFO     active_project: nbf\n",
            "2023-01-21 09:01:44 epc INFO     projects_dir: /content/\n",
            "2023-01-21 09:01:44 epc INFO     project_path: /content/nbf/\n",
            "2023-01-21 09:01:44 epc INFO     nb_dir: /content/nbf/notebooks/\n",
            "2023-01-21 09:01:45 epc WARNING  Resource exists: /content/nbf\n"
          ]
        },
        {
          "output_type": "stream",
          "name": "stdout",
          "text": [
            "remote: Enumerating objects: 19, done.\u001b[K\n",
            "remote: Counting objects:   5% (1/19)\u001b[K\rremote: Counting objects:  10% (2/19)\u001b[K\rremote: Counting objects:  15% (3/19)\u001b[K\rremote: Counting objects:  21% (4/19)\u001b[K\rremote: Counting objects:  26% (5/19)\u001b[K\rremote: Counting objects:  31% (6/19)\u001b[K\rremote: Counting objects:  36% (7/19)\u001b[K\rremote: Counting objects:  42% (8/19)\u001b[K\rremote: Counting objects:  47% (9/19)\u001b[K\rremote: Counting objects:  52% (10/19)\u001b[K\rremote: Counting objects:  57% (11/19)\u001b[K\rremote: Counting objects:  63% (12/19)\u001b[K\rremote: Counting objects:  68% (13/19)\u001b[K\rremote: Counting objects:  73% (14/19)\u001b[K\rremote: Counting objects:  78% (15/19)\u001b[K\rremote: Counting objects:  84% (16/19)\u001b[K\rremote: Counting objects:  89% (17/19)\u001b[K\rremote: Counting objects:  94% (18/19)\u001b[K\rremote: Counting objects: 100% (19/19)\u001b[K\rremote: Counting objects: 100% (19/19), done.\u001b[K\n",
            "remote: Compressing objects:  14% (1/7)\u001b[K\rremote: Compressing objects:  28% (2/7)\u001b[K\rremote: Compressing objects:  42% (3/7)\u001b[K\rremote: Compressing objects:  57% (4/7)\u001b[K\rremote: Compressing objects:  71% (5/7)\u001b[K\rremote: Compressing objects:  85% (6/7)\u001b[K\rremote: Compressing objects: 100% (7/7)\u001b[K\rremote: Compressing objects: 100% (7/7), done.\u001b[K\n",
            "remote: Total 13 (delta 7), reused 12 (delta 6), pack-reused 0\u001b[K\n",
            "Unpacking objects:   7% (1/13)   \rUnpacking objects:  15% (2/13)   \rUnpacking objects:  23% (3/13)   \rUnpacking objects:  30% (4/13)   \rUnpacking objects:  38% (5/13)   \rUnpacking objects:  46% (6/13)   \rUnpacking objects:  53% (7/13)   \rUnpacking objects:  61% (8/13)   \rUnpacking objects:  69% (9/13)   \rUnpacking objects:  76% (10/13)   \rUnpacking objects:  84% (11/13)   \rUnpacking objects:  92% (12/13)   \rUnpacking objects: 100% (13/13)   \rUnpacking objects: 100% (13/13), done.\n",
            "From https://github.com/Jaciss/nbf\n",
            "   33733ab..74d62a4  main       -> origin/main\n",
            "Updating 33733ab..74d62a4\n",
            "Fast-forward\n",
            " notebooks/notebooks_as_features.ipynb | 554 \u001b[32m+++++++++++++++++++++++++++++++++\u001b[m\u001b[31m-\u001b[m\n",
            " pyproject.toml                        |  18 \u001b[32m++\u001b[m\n",
            " tests/test_d2d_titlenames.py          |  22 \u001b[32m++\u001b[m\n",
            " 3 files changed, 593 insertions(+), 1 deletion(-)\n",
            " create mode 100644 pyproject.toml\n",
            " create mode 100644 tests/test_d2d_titlenames.py\n"
          ]
        },
        {
          "output_type": "stream",
          "name": "stderr",
          "text": [
            "2023-01-21 09:01:46 git_for_colab INFO     root notebook: git_for_colab\n"
          ]
        }
      ]
    },
    {
      "cell_type": "code",
      "source": [
        "# c"
      ],
      "metadata": {
        "id": "AdLoeKigeBxV",
        "executionInfo": {
          "status": "ok",
          "timestamp": 1674324107339,
          "user_tz": 540,
          "elapsed": 96,
          "user": {
            "displayName": "Jaci ss",
            "userId": "10130648813270993501"
          }
        }
      },
      "execution_count": 3,
      "outputs": []
    },
    {
      "cell_type": "markdown",
      "source": [
        "# Initial Config"
      ],
      "metadata": {
        "id": "zeS_vur-1fHj"
      }
    },
    {
      "cell_type": "code",
      "source": [
        "git_user = epc.get_token('github_user')\n",
        "git_email = epc.get_token('github_email')\n",
        "!git config --global user.email \"{git_email}\"\n",
        "!git config --global user.name \"{git_user}\""
      ],
      "metadata": {
        "id": "qhwmR-Yo086D",
        "executionInfo": {
          "status": "ok",
          "timestamp": 1674324112661,
          "user_tz": 540,
          "elapsed": 5368,
          "user": {
            "displayName": "Jaci ss",
            "userId": "10130648813270993501"
          }
        },
        "colab": {
          "base_uri": "https://localhost:8080/"
        },
        "outputId": "07c0ecbf-c846-46e5-fb4b-b37bee29d746"
      },
      "execution_count": 4,
      "outputs": [
        {
          "name": "stdout",
          "output_type": "stream",
          "text": [
            "Save passphrase as variable, leave blank to enter each time: \u00b7\u00b7\u00b7\u00b7\u00b7\u00b7\u00b7\u00b7\u00b7\u00b7\n"
          ]
        }
      ]
    },
    {
      "cell_type": "markdown",
      "source": [
        "## nbdime for notebook git diff\n",
        "`git diff` and similar on JSON that has many minute changes is nearly unworkable. This eliminates much of the noise."
      ],
      "metadata": {
        "id": "d4KPkzvDTRJd"
      }
    },
    {
      "cell_type": "code",
      "source": [
        "%%capture nbdime_install_output\n",
        "nv = !which nbdime\n",
        "# print('which nbdime:',str(nv))\n",
        "if str(nv).strip()=='[]':\n",
        "  %pip install nbdime\n",
        "  !nbdime config-git --enable --global"
      ],
      "metadata": {
        "id": "KOOtW40HE_3f",
        "executionInfo": {
          "status": "ok",
          "timestamp": 1674324112664,
          "user_tz": 540,
          "elapsed": 32,
          "user": {
            "displayName": "Jaci ss",
            "userId": "10130648813270993501"
          }
        }
      },
      "execution_count": 5,
      "outputs": []
    },
    {
      "cell_type": "code",
      "source": [
        "%%writefile /root/.jupyter/nbdime_config.json\n",
        "{\n",
        "  \"GitDiff\": {\n",
        "    \"Ignore\": {\n",
        "      \"/cells/*/outputs\": true,\n",
        "      \"/cells/*\":[\"execution_count\"],\n",
        "      \"/cells/*/metadata\": [\"collapsed\", \"autoscroll\", \"deletable\", \"editable\", \"executionInfo\", \"outputId\", \"colab\"]\n",
        "    }\n",
        "  }\n",
        "}"
      ],
      "metadata": {
        "colab": {
          "base_uri": "https://localhost:8080/"
        },
        "id": "1vl1QIHaG4uK",
        "executionInfo": {
          "status": "ok",
          "timestamp": 1674324112986,
          "user_tz": 540,
          "elapsed": 348,
          "user": {
            "displayName": "Jaci ss",
            "userId": "10130648813270993501"
          }
        },
        "outputId": "5df4e835-ae96-462c-eaf1-b469d2658e3d"
      },
      "execution_count": 6,
      "outputs": [
        {
          "output_type": "stream",
          "name": "stdout",
          "text": [
            "Overwriting /root/.jupyter/nbdime_config.json\n"
          ]
        }
      ]
    },
    {
      "cell_type": "markdown",
      "source": [
        "# Generic Git Functions"
      ],
      "metadata": {
        "id": "MYxrmbs8z4k4"
      }
    },
    {
      "cell_type": "code",
      "source": [
        "import json\n",
        "from google.colab import _message\n",
        "\n",
        "def get_repo_name(): #idx:int=0):\n",
        "  return c.get('active_project')\n",
        "  # try:\n",
        "  #   repo = c['github'][idx]\n",
        "  #   return repo\n",
        "  # except IndexError:\n",
        "  #   logger.error(\"No repo name at c['github'][\"+str(idx)+\"]\")\n",
        "  #   return None\n",
        "\n",
        "# get_repo_name()\n",
        "\n",
        "def git_pull(quiet=False):\n",
        "  repo = c.get('active_project')\n",
        "  if repo is not None:\n",
        "    if quiet is False:\n",
        "      !cd {c['projects_dir']}{repo} && git status\n",
        "    !cd {c['projects_dir']}{repo} && git pull\n",
        "\n",
        "# git_pull()\n",
        "\n",
        "def nb2repo(show_diff=True):\n",
        "  '''this uses projects_dir/active_project/notebooks vs nb_dir to avoid writing\n",
        "  colab notebooks, which are automatically saved; copy colab notebooks to the repo dir'''\n",
        "  repo = c.get('active_project')\n",
        "  \n",
        "  if repo is not None:\n",
        "    repo_dest_dir = c.get('nb_dir').replace('\\ ',' ') #repo+'/'+ \n",
        "    if c['use_google_drive']==True: repo_dest_dir = c['projects_dir']+repo+'/notebooks/'\n",
        "    hate = f\"{repo_dest_dir}{c['running_nb']}.ipynb\"\n",
        "    print('try to write')\n",
        "    print(r\"\"+hate)\n",
        "    activenb = _message.blocking_request('get_ipynb', request='', timeout_sec=5)['ipynb']\n",
        "    with open(hate, 'w') as nb_file:\n",
        "      nb_file.write(json.dumps(activenb,indent=2))\n",
        "    hate = hate.replace(' ','\\ ')\n",
        "    !ls -lart {hate} |tail -1\n",
        "    if show_diff == True:\n",
        "      !cd {c['projects_dir']}{repo} && echo \"\" && git diff --stat && echo -e \"\\033[0m\\n\" && git diff --minimal\n",
        "\n",
        "# nb2repo()\n",
        "\n",
        "def git_commit(message:str='from github colab notebook'):\n",
        "  '''add -A, status w/confirmation, commit'''\n",
        "  repo = get_repo_name()\n",
        "  if repo is not None:\n",
        "    nb2repo() # save current nb\n",
        "    git_pull(True) # pull any changes\n",
        "    !cd {c['projects_dir']}{repo} && git add -A # add or changes\n",
        "    !cd {c['projects_dir']}{repo} && git status # take a look at what we have\n",
        "    print('message:',message)\n",
        "    yn = input('Do you want to commit now? y/N: ')\n",
        "    if yn=='y':\n",
        "      !cd {c['projects_dir']}{repo} && git commit -m \"{message}\"\n",
        "\n",
        "# git_commit()\n",
        "\n",
        "def git_ppush(message:str='from github colab notebook'):\n",
        "  '''add, commit, push all in one'''\n",
        "  repo = c.get('active_project')\n",
        "  if repo is not None:\n",
        "    git_commit(message)\n",
        "    !cd {c['projects_dir']}{repo} && git push\n",
        "\n",
        "# git_ppush('typehinting')\n",
        "\n",
        "def git_nbastatus():\n",
        "  repo = c.get('active_project')\n",
        "  if repo is not None:\n",
        "    nb2repo(False)\n",
        "    !cd {c['projects_dir']}{repo} && git add -A && echo \"diff from origin:\" && git diff origin --stat && echo -e \"\\033[0m\\n\" && git status\n",
        "\n",
        "def drive_nb2repo_nb(message='update all from colab notebooks/*'):\n",
        "  '''for file in projects_dir/active_project/notebooks/*.ipynb copy Google Drive \n",
        "  \"Colab Notebooks/file.ipynb\" on top of it'''\n",
        "  from google.colab import drive\n",
        "  os.path.isdir('/content/drive/') or drive.mount('/content/drive/')\n",
        "  enbooks = !ls {c['active_project']}/notebooks/*.ipynb\n",
        "  for book in enbooks:\n",
        "    nbfname = os.path.basename(book)\n",
        "    # cmd = f\"cp drive/MyDrive/Projects/{c['active_project']}/notebooks/{nbfname} {book}\"\n",
        "    cmd = f\"cp drive/MyDrive/Colab\\ Notebooks/{nbfname} {book}\"\n",
        "    print(cmd)\n",
        "    !{cmd}\n",
        "  git_ppush(message)\n",
        "  # gnbooks = !ls drive/MyDrive/Projects/{c['active_project']}/notebooks/*.ipynb\n",
        "  # print(gnbooks)\n",
        "  # drive/Colab\\ Notebooks/\n",
        "# drive_nb2repo_nb()"
      ],
      "metadata": {
        "id": "cnNvIkIP193t",
        "executionInfo": {
          "status": "ok",
          "timestamp": 1674324212574,
          "user_tz": 540,
          "elapsed": 592,
          "user": {
            "displayName": "Jaci ss",
            "userId": "10130648813270993501"
          }
        }
      },
      "execution_count": 19,
      "outputs": []
    },
    {
      "cell_type": "code",
      "source": [
        "# !cd {c.get('project_path')} && git pull\n",
        "# nb2repo()\n",
        "# git_ppush('remove defunct notebooks')"
      ],
      "metadata": {
        "id": "wk9C_oly90mZ",
        "executionInfo": {
          "status": "ok",
          "timestamp": 1674324162687,
          "user_tz": 540,
          "elapsed": 33,
          "user": {
            "displayName": "Jaci ss",
            "userId": "10130648813270993501"
          }
        }
      },
      "execution_count": 8,
      "outputs": []
    },
    {
      "cell_type": "markdown",
      "source": [
        "# GitHub CLI"
      ],
      "metadata": {
        "id": "ooWLstJ4Ekfs"
      }
    },
    {
      "cell_type": "code",
      "execution_count": 9,
      "metadata": {
        "id": "QNXMk3yFcpCY",
        "executionInfo": {
          "status": "ok",
          "timestamp": 1674324162691,
          "user_tz": 540,
          "elapsed": 32,
          "user": {
            "displayName": "Jaci ss",
            "userId": "10130648813270993501"
          }
        }
      },
      "outputs": [],
      "source": [
        "def get_gh():\n",
        "  '''installs GitHub CLI'''\n",
        "  hazgh = !which gh\n",
        "  if len(hazgh)==0:\n",
        "    command = '''\n",
        "    sudo apt install curl -y\n",
        "    curl -fsSL https://cli.github.com/packages/githubcli-archive-keyring.gpg | sudo dd of=/usr/share/keyrings/githubcli-archive-keyring.gpg \\\n",
        "    && sudo chmod go+r /usr/share/keyrings/githubcli-archive-keyring.gpg \\\n",
        "    && echo \"deb [arch=$(dpkg --print-architecture) signed-by=/usr/share/keyrings/githubcli-archive-keyring.gpg] https://cli.github.com/packages stable main\" | sudo tee /etc/apt/sources.list.d/github-cli.list > /dev/null \\\n",
        "    && sudo apt update \\\n",
        "    && sudo apt install gh -y\n",
        "    '''\n",
        "    !{command} > /dev/null\n",
        "    ghtoken = epc.get_token('github')\n",
        "    !echo \"{ghtoken}\" | gh auth login --with-token"
      ]
    },
    {
      "cell_type": "code",
      "source": [
        "def create_private_github_repo(name):\n",
        "  '''creates a private repo, relies on epc'''\n",
        "  get_gh()\n",
        "  user = epc.get_token('github_user')\n",
        "  !gh repo create {name} --private\n",
        "  # private! --clone in above does not work =P\n",
        "  epc.github_fetch({'repo':name,'user':git_user,'token':epc.get_token('github'),'filepath':''})\n",
        "  !cd {name} && echo \"# {name}\" >> README.md \n",
        "  !cd {name} && git add README.md && git commit -m \"initial commit\"\n",
        "  !cd {name} && git branch -M main\n",
        "  !cd {name} && git push -u origin main\n",
        "  !cat {name}/.git/config\n",
        "  !cd {name} && git status\n",
        "# !cd {c['nb_dir']} && git branch --set-upstream-to=origin/dev dev\n",
        "\n",
        "# create_private_github_repo('gotit')"
      ],
      "metadata": {
        "id": "futbro2ZQehU",
        "executionInfo": {
          "status": "ok",
          "timestamp": 1674324163186,
          "user_tz": 540,
          "elapsed": 524,
          "user": {
            "displayName": "Jaci ss",
            "userId": "10130648813270993501"
          }
        }
      },
      "execution_count": 10,
      "outputs": []
    },
    {
      "cell_type": "code",
      "source": [
        "import os\n",
        "def create_issue(title,body,label='bug',a='@me',idx=0):\n",
        "  '''common labels: bug, enhancement, documentation, question'''\n",
        "  get_gh()\n",
        "  repo = get_repo_name(idx)\n",
        "  response = !cd {repo} && gh issue create -t \"{title}\" -b \"{body}\" -a \"{a}\" -l \"{label}\"\n",
        "  print(' '.join(response))\n",
        "  if len(response)==4: return os.path.basename(response[3])\n",
        "  return response\n",
        "\n",
        "# create_issue('fix knowledge of GitHub closes syntax','this is awesome','enhancement')"
      ],
      "metadata": {
        "id": "xg39NUAVbVGa",
        "executionInfo": {
          "status": "ok",
          "timestamp": 1674324163189,
          "user_tz": 540,
          "elapsed": 119,
          "user": {
            "displayName": "Jaci ss",
            "userId": "10130648813270993501"
          }
        }
      },
      "execution_count": 11,
      "outputs": []
    },
    {
      "cell_type": "markdown",
      "source": [
        "# Misc"
      ],
      "metadata": {
        "id": "jz6zJZYiPugd"
      }
    },
    {
      "cell_type": "code",
      "source": [
        "# make a copy of active, nbdiff it with what's in the repo dir:\n",
        "# nb2repo(0,'../../tmp/',False)\n",
        "# !cd jai && nbdiff notebooks/git_for_colab.ipynb ../../tmp/git_for_colab.ipynb\n",
        "\n",
        "# to try:\n",
        "# !cd jai && nbdime mergetool\n",
        "\n",
        "# failed to get nbdiff-webweb diff working: https://colab.research.google.com/drive/1frMmd0WSaXhOQXef0PtTWojCXuuvMxur\n",
        "\n",
        "# diff repo with remote\n",
        "# !cd jai && git diff main:notebooks/git_for_colab.ipynb notebooks/git_for_colab.ipynb"
      ],
      "metadata": {
        "id": "SpJHYL43F2N5",
        "executionInfo": {
          "status": "ok",
          "timestamp": 1674324163192,
          "user_tz": 540,
          "elapsed": 115,
          "user": {
            "displayName": "Jaci ss",
            "userId": "10130648813270993501"
          }
        }
      },
      "execution_count": 12,
      "outputs": []
    },
    {
      "cell_type": "code",
      "source": [
        "# if you want everything in the root directory:\n",
        "# !mv {repo}/* .\n",
        "# !mv {repo}/.[!.]* .\n",
        "# !rm -rf {repo}"
      ],
      "metadata": {
        "id": "fkiqONrGmd2m",
        "executionInfo": {
          "status": "ok",
          "timestamp": 1674324163194,
          "user_tz": 540,
          "elapsed": 112,
          "user": {
            "displayName": "Jaci ss",
            "userId": "10130648813270993501"
          }
        }
      },
      "execution_count": 13,
      "outputs": []
    },
    {
      "cell_type": "markdown",
      "source": [
        "## diff live vs github files"
      ],
      "metadata": {
        "id": "87lhCrzbC6-D"
      }
    },
    {
      "cell_type": "code",
      "source": [
        "# DIFF Live vs Git\n",
        "# # git version\n",
        "# text_file = open(\"jai/notebooks/encrypted_private_config.ipynb\", \"r\")\n",
        "# data = text_file.read()\n",
        "# text_file.close()\n",
        "# jsonFile = open(\"gitnb.json\", \"w\")\n",
        "# jsonFile.write(json.dumps(json.loads(data),indent=2))\n",
        "# jsonFile.close()\n",
        "\n",
        "# # live version\n",
        "# activenb = _message.blocking_request('get_ipynb', request='', timeout_sec=5)['ipynb']\n",
        "# jsonFile = open(\"activenb.json\", \"w\")\n",
        "# jsonFile.write(json.dumps(activenb,indent=2))\n",
        "# jsonFile.close()\n",
        "\n",
        "# # !head gitnb.json\n",
        "# !diff -c activenb.json gitnb.json\n",
        "# !cp activenb.json jai/notebooks/encrypted_private_configTEST.ipynb\n"
      ],
      "metadata": {
        "id": "7tXvcqU2iMY0",
        "executionInfo": {
          "status": "ok",
          "timestamp": 1674324163196,
          "user_tz": 540,
          "elapsed": 109,
          "user": {
            "displayName": "Jaci ss",
            "userId": "10130648813270993501"
          }
        }
      },
      "execution_count": 14,
      "outputs": []
    },
    {
      "cell_type": "markdown",
      "source": [
        "# EOF"
      ],
      "metadata": {
        "id": "wgPmim542Mrz"
      }
    },
    {
      "cell_type": "code",
      "source": [
        "# %%writerun {nb_dir}templates/git_message -e\n",
        "#@title Commit Message { run: \"auto\", vertical-output: true }\n",
        "commit_message = \"wip\" #@param {type:\"string\"}\n",
        "commit_message = c.get('commit_message',commit_message+' |colab')\n",
        "commit_message"
      ],
      "metadata": {
        "id": "r2mlfl-lNwoU",
        "executionInfo": {
          "status": "ok",
          "timestamp": 1674324163199,
          "user_tz": 540,
          "elapsed": 106,
          "user": {
            "displayName": "Jaci ss",
            "userId": "10130648813270993501"
          }
        },
        "colab": {
          "base_uri": "https://localhost:8080/",
          "height": 36
        },
        "outputId": "b231b257-380c-4f8d-bdf9-3d948070e4a1"
      },
      "execution_count": 15,
      "outputs": [
        {
          "output_type": "execute_result",
          "data": {
            "text/plain": [
              "'wip |colab'"
            ],
            "application/vnd.google.colaboratory.intrinsic+json": {
              "type": "string"
            }
          },
          "metadata": {},
          "execution_count": 15
        }
      ]
    },
    {
      "cell_type": "code",
      "source": [
        "# %%writerun {c['nb_dir']}templates/git -e\n",
        "#@title Git Actions { run: \"auto\", vertical-output: true }\n",
        "if c['running_nb'] == c['nb_name']:\n",
        "  github_index = 0 #@param [\"0\", \"1\", \"2\"] {type:\"raw\"}\n",
        "  git_action = \"nb2repo*\" #@param [\"\",\"nb2repo*\",\"pull\",\"diff\",\"diff origin --minimal\",\"git_nbastatus*\",\"commit -m {message}\",\"push\",\"ppush*\",\"status\",\"fetch\",\"merge\",\"push origin dev\",\"diff main dev\",\"merge main\",\"merge dev\",\"checkout main\",\"checkout dev\",\"diff --staged\",\"restore\",\"add .\",\"branch -a\",\"log -15 --graph --oneline --decorate\",\"reset --hard HEAD\",\"reset --hard HEAD~1\",\"commit --amend -m {messaage}\"]\n",
        "\n",
        "  # print('repo indices: '+str(dict(zip(range(len(c['github'])),c['github']))))\n",
        "  # if github_index > len(c['github'])-1:\n",
        "  #   print('no repo at that index')\n",
        "  # else:\n",
        "  # print('repo:',c['github'][github_index])\n",
        "  if git_action!='':\n",
        "    if git_action=='nb2repo*': nb2repo()\n",
        "    elif git_action=='ppush*': git_ppush(commit_message)\n",
        "    elif git_action=='git_nbastatus*': git_nbastatus()\n",
        "    else:\n",
        "      if git_action==\"commit -m {message}\": git_action = f\"commit -m '{commit_message}'\"\n",
        "      if git_action==\"commit --amend -m {messaage}\": git_action = f\"commit --amend -m '{commit_message}'\"\n",
        "      !cd {c['project_path']} && git {git_action}"
      ],
      "metadata": {
        "colab": {
          "base_uri": "https://localhost:8080/"
        },
        "id": "xbADLUi2fyfM",
        "outputId": "ee7c117b-b8f2-4f3c-aa74-14d888ab5bf0"
      },
      "execution_count": null,
      "outputs": [
        {
          "output_type": "stream",
          "name": "stdout",
          "text": [
            "try to write\n",
            "/content/nbf/notebooks/git_for_colab.ipynb\n"
          ]
        }
      ]
    },
    {
      "cell_type": "code",
      "source": [],
      "metadata": {
        "id": "QP6frE6FX2lK",
        "executionInfo": {
          "status": "ok",
          "timestamp": 1674324163205,
          "user_tz": 540,
          "elapsed": 62,
          "user": {
            "displayName": "Jaci ss",
            "userId": "10130648813270993501"
          }
        }
      },
      "execution_count": 16,
      "outputs": []
    },
    {
      "cell_type": "code",
      "source": [
        "# for automatic pushes\n",
        "# if c['running_nb'] == c['nb_name']:\n",
        "#   git_ppush('colab')"
      ],
      "metadata": {
        "id": "dUEyAbF4o5sk",
        "executionInfo": {
          "status": "ok",
          "timestamp": 1674324163209,
          "user_tz": 540,
          "elapsed": 63,
          "user": {
            "displayName": "Jaci ss",
            "userId": "10130648813270993501"
          }
        }
      },
      "execution_count": 17,
      "outputs": []
    },
    {
      "cell_type": "code",
      "source": [
        "# c['nb_name'] = c['nb_run_by'] # give nb_name back to any calling notebooks"
      ],
      "metadata": {
        "id": "9Ro27GgBF8LZ",
        "executionInfo": {
          "status": "ok",
          "timestamp": 1674324163212,
          "user_tz": 540,
          "elapsed": 64,
          "user": {
            "displayName": "Jaci ss",
            "userId": "10130648813270993501"
          }
        }
      },
      "execution_count": 18,
      "outputs": []
    },
    {
      "cell_type": "code",
      "source": [],
      "metadata": {
        "id": "H6AX5hzbiQ2D",
        "executionInfo": {
          "status": "ok",
          "timestamp": 1674324163215,
          "user_tz": 540,
          "elapsed": 65,
          "user": {
            "displayName": "Jaci ss",
            "userId": "10130648813270993501"
          }
        }
      },
      "execution_count": 18,
      "outputs": []
    }
  ]
}