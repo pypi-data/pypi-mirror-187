{
 "cells": [
  {
   "cell_type": "code",
   "execution_count": null,
   "id": "11a4f931-9475-4a91-8e2a-484cdde8658a",
   "metadata": {},
   "outputs": [],
   "source": [
    "import matplotlib.pyplot as plt\n",
    "from pyspotstream.datasets import fetch_opm"
   ]
  },
  {
   "cell_type": "markdown",
   "id": "21cb5caa-e9b2-4aed-a7cd-79f5ac28dbf5",
   "metadata": {},
   "source": [
    "# OPM Dataset\n",
    "\n",
    "See Connecticut's [Office of Policy and Management](https://portal.ct.gov/OPM/IGPP/Publications/Real-Estate-Sales-Listing) website for a detailed description.\n",
    "By default, we remove all categorical variables from the dataset. \n",
    "You can set `include_categorical` to `True` to keep them."
   ]
  },
  {
   "cell_type": "code",
   "execution_count": null,
   "id": "78b4285e-4f0c-499f-be71-3b0845281985",
   "metadata": {},
   "outputs": [],
   "source": [
    "ds = fetch_opm(include_categorical=True)"
   ]
  },
  {
   "cell_type": "code",
   "execution_count": null,
   "id": "78925158-fd57-4ada-9a76-49870d1a741e",
   "metadata": {},
   "outputs": [],
   "source": [
    "ds.data"
   ]
  },
  {
   "cell_type": "markdown",
   "id": "90c56811-6dfc-404c-9259-d9d1dae2d33b",
   "metadata": {},
   "source": [
    "## Target variable"
   ]
  },
  {
   "cell_type": "code",
   "execution_count": null,
   "id": "1594994a-f0f2-4fc3-b28c-95c7732e29d8",
   "metadata": {},
   "outputs": [],
   "source": [
    "fig, ax = plt.subplots(figsize=(10, 4))\n",
    "ax.hist(ds.target)\n",
    "ax.set_yscale(\"log\")\n",
    "ax.set_title(f\"$y$ / target variable ({ds.target.name})\")"
   ]
  },
  {
   "cell_type": "markdown",
   "id": "d07ec6d8-eef8-4983-ae17-39bff2345cde",
   "metadata": {},
   "source": [
    "Here's the complete help for `fetch_opm`:"
   ]
  },
  {
   "cell_type": "markdown",
   "id": "ef16b687-617c-4917-b27f-cd443d88bf4a",
   "metadata": {},
   "source": [
    "## Explanatory variables"
   ]
  },
  {
   "cell_type": "code",
   "execution_count": null,
   "id": "78eac1c0-882b-4302-84cc-50113eb63bc7",
   "metadata": {},
   "outputs": [],
   "source": [
    "for v in [\"List Year\", \"Assessed Value\", \"Sale Amount\", \"Sales Ratio\"]:\n",
    "    fig, ax = plt.subplots(figsize=(10, 4))\n",
    "    ax.hist(ds.data[v])\n",
    "    ax.set_yscale(\"log\")\n",
    "    ax.set_xlabel(v)"
   ]
  },
  {
   "cell_type": "markdown",
   "id": "f2649d8a-07a5-403a-be1a-e650aa0734ad",
   "metadata": {},
   "source": [
    "### Plot location of sales"
   ]
  },
  {
   "cell_type": "code",
   "execution_count": null,
   "id": "1011fc8d-7314-47c9-b097-a81bb874e0cd",
   "metadata": {},
   "outputs": [],
   "source": [
    "fig, ax = plt.subplots(figsize=(8, 8))\n",
    "ax.set_aspect(\"equal\")\n",
    "ax.scatter(ds.data[\"lon\"], ds.data[\"lat\"])"
   ]
  },
  {
   "cell_type": "markdown",
   "id": "c3b8368f-72b2-4786-81fa-ae2164d66a3d",
   "metadata": {},
   "source": [
    "## Help page"
   ]
  },
  {
   "cell_type": "code",
   "execution_count": null,
   "id": "4c22a464-b744-463e-b0e6-cd686226801e",
   "metadata": {},
   "outputs": [],
   "source": [
    "fetch_opm?"
   ]
  }
 ],
 "metadata": {
  "kernelspec": {
   "display_name": "Python 3 (ipykernel)",
   "language": "python",
   "name": "python3"
  },
  "language_info": {
   "codemirror_mode": {
    "name": "ipython",
    "version": 3
   },
   "file_extension": ".py",
   "mimetype": "text/x-python",
   "name": "python",
   "nbconvert_exporter": "python",
   "pygments_lexer": "ipython3",
   "version": "3.10.8"
  }
 },
 "nbformat": 4,
 "nbformat_minor": 5
}
