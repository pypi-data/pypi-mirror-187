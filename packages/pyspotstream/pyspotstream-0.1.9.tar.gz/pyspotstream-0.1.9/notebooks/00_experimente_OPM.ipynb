{
 "cells": [
  {
   "cell_type": "raw",
   "metadata": {},
   "source": [
    "---\n",
    "title: \"00experimenteOPM\"\n",
    "format: html\n",
    "---"
   ]
  },
  {
   "attachments": {},
   "cell_type": "markdown",
   "metadata": {},
   "source": [
    "# Test pyspotstream"
   ]
  },
  {
   "attachments": {},
   "cell_type": "markdown",
   "metadata": {},
   "source": [
    "* This is a simple test to check whether:\n",
    "  * `pyspotstream` is installed\n",
    "  * the `OPM` data set can be downloaded to the local disk\n",
    "  * If successful, data can be loaded and the CSV file `open_data.csv` is available."
   ]
  },
  {
   "cell_type": "code",
   "execution_count": 1,
   "metadata": {},
   "outputs": [],
   "source": [
    "from pyspotstream.data.OPM import get_opm, load_opm"
   ]
  },
  {
   "attachments": {},
   "cell_type": "markdown",
   "metadata": {},
   "source": [
    "## Download OPM Data"
   ]
  },
  {
   "cell_type": "code",
   "execution_count": 2,
   "metadata": {},
   "outputs": [
    {
     "name": "stdout",
     "output_type": "stream",
     "text": [
      "File opm_data.csv already exists. To enforce download, set 'overwrite=True'.\n"
     ]
    }
   ],
   "source": [
    "get_opm(overwrite=False)"
   ]
  },
  {
   "attachments": {},
   "cell_type": "markdown",
   "metadata": {},
   "source": [
    "## Load OPM"
   ]
  },
  {
   "cell_type": "code",
   "execution_count": 3,
   "metadata": {},
   "outputs": [
    {
     "name": "stderr",
     "output_type": "stream",
     "text": [
      "/Users/bartz/miniforge3/envs/spotCondaEnv/lib/python3.10/site-packages/pyspotstream/data/OPM.py:43: DtypeWarning: Columns (8,9,10,11,12) have mixed types. Specify dtype option on import or set low_memory=False.\n",
      "  df = pd.read_csv(filename, date_parser=dateparse)\n"
     ]
    }
   ],
   "source": [
    "X_train, y_train = load_opm(data_type=\"num\", n=10000, sorted=True, verbose=False)\n",
    "y_train = y_train.squeeze()  # necessary because Y is a one column df"
   ]
  },
  {
   "attachments": {},
   "cell_type": "markdown",
   "metadata": {},
   "source": [
    "## Quick Look at the Data"
   ]
  },
  {
   "cell_type": "code",
   "execution_count": 4,
   "metadata": {},
   "outputs": [
    {
     "data": {
      "text/html": [
       "<div>\n",
       "<style scoped>\n",
       "    .dataframe tbody tr th:only-of-type {\n",
       "        vertical-align: middle;\n",
       "    }\n",
       "\n",
       "    .dataframe tbody tr th {\n",
       "        vertical-align: top;\n",
       "    }\n",
       "\n",
       "    .dataframe thead th {\n",
       "        text-align: right;\n",
       "    }\n",
       "</style>\n",
       "<table border=\"1\" class=\"dataframe\">\n",
       "  <thead>\n",
       "    <tr style=\"text-align: right;\">\n",
       "      <th></th>\n",
       "      <th>List Year</th>\n",
       "      <th>Assessed Value</th>\n",
       "      <th>Sales Ratio</th>\n",
       "      <th>timestamp_rec</th>\n",
       "      <th>lat</th>\n",
       "      <th>lon</th>\n",
       "    </tr>\n",
       "  </thead>\n",
       "  <tbody>\n",
       "    <tr>\n",
       "      <th>count</th>\n",
       "      <td>10000.0000</td>\n",
       "      <td>1.000000e+04</td>\n",
       "      <td>10000.000000</td>\n",
       "      <td>1.000000e+04</td>\n",
       "      <td>10000.000000</td>\n",
       "      <td>10000.000000</td>\n",
       "    </tr>\n",
       "    <tr>\n",
       "      <th>mean</th>\n",
       "      <td>2001.0005</td>\n",
       "      <td>1.327557e+05</td>\n",
       "      <td>1.264403</td>\n",
       "      <td>1.004555e+09</td>\n",
       "      <td>-14.464445</td>\n",
       "      <td>6.963008</td>\n",
       "    </tr>\n",
       "    <tr>\n",
       "      <th>std</th>\n",
       "      <td>0.0500</td>\n",
       "      <td>2.841702e+05</td>\n",
       "      <td>10.161839</td>\n",
       "      <td>1.731463e+06</td>\n",
       "      <td>28.050098</td>\n",
       "      <td>16.588739</td>\n",
       "    </tr>\n",
       "    <tr>\n",
       "      <th>min</th>\n",
       "      <td>2001.0000</td>\n",
       "      <td>2.000000e+03</td>\n",
       "      <td>0.004935</td>\n",
       "      <td>1.001887e+09</td>\n",
       "      <td>-73.597221</td>\n",
       "      <td>-1.000000</td>\n",
       "    </tr>\n",
       "    <tr>\n",
       "      <th>25%</th>\n",
       "      <td>2001.0000</td>\n",
       "      <td>6.020000e+04</td>\n",
       "      <td>0.476800</td>\n",
       "      <td>1.003097e+09</td>\n",
       "      <td>-1.000000</td>\n",
       "      <td>-1.000000</td>\n",
       "    </tr>\n",
       "    <tr>\n",
       "      <th>50%</th>\n",
       "      <td>2001.0000</td>\n",
       "      <td>8.946000e+04</td>\n",
       "      <td>0.548616</td>\n",
       "      <td>1.004483e+09</td>\n",
       "      <td>-1.000000</td>\n",
       "      <td>-1.000000</td>\n",
       "    </tr>\n",
       "    <tr>\n",
       "      <th>75%</th>\n",
       "      <td>2001.0000</td>\n",
       "      <td>1.365775e+05</td>\n",
       "      <td>0.644675</td>\n",
       "      <td>1.006124e+09</td>\n",
       "      <td>-1.000000</td>\n",
       "      <td>-1.000000</td>\n",
       "    </tr>\n",
       "    <tr>\n",
       "      <th>max</th>\n",
       "      <td>2006.0000</td>\n",
       "      <td>1.393871e+07</td>\n",
       "      <td>464.549988</td>\n",
       "      <td>1.007420e+09</td>\n",
       "      <td>-1.000000</td>\n",
       "      <td>42.040852</td>\n",
       "    </tr>\n",
       "  </tbody>\n",
       "</table>\n",
       "</div>"
      ],
      "text/plain": [
       "        List Year  Assessed Value   Sales Ratio  timestamp_rec           lat  \\\n",
       "count  10000.0000    1.000000e+04  10000.000000   1.000000e+04  10000.000000   \n",
       "mean    2001.0005    1.327557e+05      1.264403   1.004555e+09    -14.464445   \n",
       "std        0.0500    2.841702e+05     10.161839   1.731463e+06     28.050098   \n",
       "min     2001.0000    2.000000e+03      0.004935   1.001887e+09    -73.597221   \n",
       "25%     2001.0000    6.020000e+04      0.476800   1.003097e+09     -1.000000   \n",
       "50%     2001.0000    8.946000e+04      0.548616   1.004483e+09     -1.000000   \n",
       "75%     2001.0000    1.365775e+05      0.644675   1.006124e+09     -1.000000   \n",
       "max     2006.0000    1.393871e+07    464.549988   1.007420e+09     -1.000000   \n",
       "\n",
       "                lon  \n",
       "count  10000.000000  \n",
       "mean       6.963008  \n",
       "std       16.588739  \n",
       "min       -1.000000  \n",
       "25%       -1.000000  \n",
       "50%       -1.000000  \n",
       "75%       -1.000000  \n",
       "max       42.040852  "
      ]
     },
     "execution_count": 4,
     "metadata": {},
     "output_type": "execute_result"
    }
   ],
   "source": [
    "\n",
    "X_train.describe()\n"
   ]
  },
  {
   "cell_type": "code",
   "execution_count": 5,
   "metadata": {},
   "outputs": [
    {
     "data": {
      "text/plain": [
       "count    1.000000e+04\n",
       "mean     2.249869e+05\n",
       "std      3.972714e+05\n",
       "min      2.000000e+03\n",
       "25%      1.019750e+05\n",
       "50%      1.560000e+05\n",
       "75%      2.525000e+05\n",
       "max      2.070502e+07\n",
       "Name: Sale Amount, dtype: float64"
      ]
     },
     "execution_count": 5,
     "metadata": {},
     "output_type": "execute_result"
    }
   ],
   "source": [
    "y_train.describe()"
   ]
  },
  {
   "cell_type": "code",
   "execution_count": null,
   "metadata": {},
   "outputs": [],
   "source": []
  }
 ],
 "metadata": {
  "kernelspec": {
   "display_name": "Python 3 (ipykernel)",
   "language": "python",
   "name": "python3"
  },
  "language_info": {
   "codemirror_mode": {
    "name": "ipython",
    "version": 3
   },
   "file_extension": ".py",
   "mimetype": "text/x-python",
   "name": "python",
   "nbconvert_exporter": "python",
   "pygments_lexer": "ipython3",
   "version": "3.10.6"
  },
  "vscode": {
   "interpreter": {
    "hash": "81c77de872def749acd68d9955e19f0df6803301f4c1f66c3444af66334112ae"
   }
  }
 },
 "nbformat": 4,
 "nbformat_minor": 4
}
