{
 "cells": [
  {
   "cell_type": "markdown",
   "metadata": {},
   "source": [
    "# Uncertainty wrapper Example\n",
    "\n",
    "### Apply a classifier trained for the 20 newsgroups to the BBC news dataset\n",
    "\n",
    "This script shows how to apply the uncertainty wrapper to enrich the predictions of a trained classifier with \n",
    "the corresponding uncertainty when applied to a new domain of application. The goal is to show how to use\n",
    "a classifier already trained for one task in another task, and how we can measure that the blackbox adapts for the \n",
    "new task. We will see how wecan identify the cases where the blackbox is less confident on its predictions, \n",
    "and how we can increase the accuracy of the resulting system by rejecting those examples that more uncertain.\n",
    "\n",
    "It first trains a naive bayes classifier over newsgroups that will be the blackbox in this example. \n",
    "Then, it uses it for predicting whether a new text is talking about politics or not, by grouping all the\n",
    "newsgroups that are related to politics.\n",
    "As the target application, it uses the dataset on BBC news(https://www.kaggle.com/yufengdev/bbc-fulltext-and-category),\n",
    "making a binary classifier to predict if a news talks about politics or not."
   ]
  },
  {
   "cell_type": "code",
   "execution_count": 33,
   "metadata": {
    "ExecuteTime": {
     "end_time": "2020-10-09T15:46:51.814520Z",
     "start_time": "2020-10-09T15:46:49.567097Z"
    }
   },
   "outputs": [],
   "source": [
    "import numpy as np\n",
    "from sklearn.datasets import fetch_20newsgroups\n",
    "from sklearn.feature_extraction.text import TfidfVectorizer\n",
    "from sklearn.naive_bayes import MultinomialNB\n",
    "from sklearn.metrics import accuracy_score\n",
    "import sys\n",
    "sys.path.append('..')\n",
    "from uncwrap import UncertaintyWrapperEstimator\n",
    "from uncwrap.tests.test_utils import PoliticsClassifierWrapper, load_politics_data"
   ]
  },
  {
   "cell_type": "markdown",
   "metadata": {},
   "source": [
    "## Preparing the blackbox\n",
    "First we load the 20 newsgroups dataset"
   ]
  },
  {
   "cell_type": "code",
   "execution_count": 34,
   "metadata": {
    "ExecuteTime": {
     "end_time": "2020-10-09T15:46:54.440022Z",
     "start_time": "2020-10-09T15:46:53.924188Z"
    }
   },
   "outputs": [],
   "source": [
    "newsgroups_train = fetch_20newsgroups(subset='train')\n",
    "newsgroups_test = fetch_20newsgroups(subset='test')\n",
    "\n",
    "X_train = newsgroups_train.data\n",
    "X_test = newsgroups_test.data\n",
    "\n",
    "y_train = newsgroups_train.target\n",
    "y_test = newsgroups_test.target"
   ]
  },
  {
   "cell_type": "markdown",
   "metadata": {},
   "source": [
    "We create a tf/idf vectorizer for texts. It is important to remark here that it will be the same that we use for computing the uncertainty, as we need to use the same representation for obtaining the predictions when calling the blackbox trained for newsgroups."
   ]
  },
  {
   "cell_type": "code",
   "execution_count": 35,
   "metadata": {
    "ExecuteTime": {
     "end_time": "2020-10-09T15:46:59.888566Z",
     "start_time": "2020-10-09T15:46:56.906506Z"
    }
   },
   "outputs": [
    {
     "data": {
      "text/plain": [
       "TfidfVectorizer(max_features=1000)"
      ]
     },
     "execution_count": 35,
     "metadata": {},
     "output_type": "execute_result"
    }
   ],
   "source": [
    "tfidf_vectorizer = TfidfVectorizer(max_features=1000)\n",
    "tfidf_vectorizer.fit(X_train)"
   ]
  },
  {
   "cell_type": "markdown",
   "metadata": {},
   "source": [
    "We build a very simple naive bayes model using the 20 newsgroups data that will become the blackbox model.\n",
    "Observe that in this case the results are categorical, which means that we cannot use the output probabilities as a measure of uncertainty."
   ]
  },
  {
   "cell_type": "code",
   "execution_count": 36,
   "metadata": {
    "ExecuteTime": {
     "end_time": "2020-10-09T15:47:04.633363Z",
     "start_time": "2020-10-09T15:47:01.969546Z"
    }
   },
   "outputs": [
    {
     "data": {
      "text/plain": [
       "MultinomialNB()"
      ]
     },
     "execution_count": 36,
     "metadata": {},
     "output_type": "execute_result"
    }
   ],
   "source": [
    "blackbox_model = MultinomialNB()\n",
    "blackbox_model.fit(tfidf_vectorizer.transform(X_train), y_train)"
   ]
  },
  {
   "cell_type": "markdown",
   "metadata": {},
   "source": [
    "We compute the accuracy of the 20 newsgroups dataset to check that the blackbox works"
   ]
  },
  {
   "cell_type": "code",
   "execution_count": 37,
   "metadata": {
    "ExecuteTime": {
     "end_time": "2020-10-09T15:47:07.993170Z",
     "start_time": "2020-10-09T15:47:06.204354Z"
    }
   },
   "outputs": [
    {
     "data": {
      "text/plain": [
       "'accuracy of the black-box in test: 0.6565321295804567'"
      ]
     },
     "execution_count": 37,
     "metadata": {},
     "output_type": "execute_result"
    }
   ],
   "source": [
    "y_pred = blackbox_model.predict(tfidf_vectorizer.transform(X_test))\n",
    "'accuracy of the black-box in test: {}'.format(accuracy_score(y_test, y_pred))"
   ]
  },
  {
   "cell_type": "code",
   "execution_count": 38,
   "metadata": {},
   "outputs": [
    {
     "data": {
      "text/plain": [
       "array([ 7,  8,  0, ...,  9,  3, 15])"
      ]
     },
     "execution_count": 38,
     "metadata": {},
     "output_type": "execute_result"
    }
   ],
   "source": [
    "y_pred"
   ]
  },
  {
   "cell_type": "markdown",
   "metadata": {},
   "source": [
    "## Apply to the new problem\n",
    "To apply the blackbox just created for the binary problem of predicting if a news talks about politics or not\n",
    "we create a wrapper that returns 1 for those news that are related to politics and 0 otherwise."
   ]
  },
  {
   "cell_type": "code",
   "execution_count": 39,
   "metadata": {
    "ExecuteTime": {
     "end_time": "2020-10-09T15:47:11.281877Z",
     "start_time": "2020-10-09T15:47:09.718453Z"
    }
   },
   "outputs": [
    {
     "data": {
      "text/plain": [
       "'accuracy of the black-box adapted to the politics use case in test: 0.039697291556027615'"
      ]
     },
     "execution_count": 39,
     "metadata": {},
     "output_type": "execute_result"
    }
   ],
   "source": [
    "politics_model = PoliticsClassifierWrapper(blackbox_model)\n",
    "y_pred2 = politics_model.predict(tfidf_vectorizer.transform(X_test))\n",
    "'accuracy of the black-box adapted to the politics use case in test: {}'.format(accuracy_score(y_test, y_pred2))"
   ]
  },
  {
   "cell_type": "markdown",
   "metadata": {},
   "source": [
    "Load the BBC news dataset also making a transformation for getting 1 when the category is politics and 0 otherwise"
   ]
  },
  {
   "cell_type": "code",
   "execution_count": 40,
   "metadata": {
    "ExecuteTime": {
     "end_time": "2020-10-09T15:47:21.729232Z",
     "start_time": "2020-10-09T15:47:21.672566Z"
    }
   },
   "outputs": [],
   "source": [
    "polit_X_train, polit_X_test, polit_y_train, polit_y_test = load_politics_data(\"../tests/fixtures/bbc-text.csv\")"
   ]
  },
  {
   "cell_type": "markdown",
   "metadata": {},
   "source": [
    "We create the uncertaintywrapper referencing to the black box"
   ]
  },
  {
   "cell_type": "code",
   "execution_count": 41,
   "metadata": {
    "ExecuteTime": {
     "end_time": "2020-10-09T15:47:24.123469Z",
     "start_time": "2020-10-09T15:47:24.119555Z"
    }
   },
   "outputs": [],
   "source": [
    "uncertainty_wrapper = UncertaintyWrapperEstimator(black_box=politics_model)"
   ]
  },
  {
   "cell_type": "markdown",
   "metadata": {},
   "source": [
    "And train the wrapper (mind that we are using the same vectorizer for the input as in the blackbox)"
   ]
  },
  {
   "cell_type": "code",
   "execution_count": 42,
   "metadata": {
    "ExecuteTime": {
     "end_time": "2020-10-09T15:47:43.005304Z",
     "start_time": "2020-10-09T15:47:26.344102Z"
    }
   },
   "outputs": [
    {
     "data": {
      "text/plain": [
       "UncertaintyWrapperEstimator(black_box=PoliticsClassifierWrapper(black_box=MultinomialNB()))"
      ]
     },
     "execution_count": 42,
     "metadata": {},
     "output_type": "execute_result"
    }
   ],
   "source": [
    "uncertainty_wrapper.fit(tfidf_vectorizer.transform(polit_X_train), polit_y_train)"
   ]
  },
  {
   "cell_type": "markdown",
   "metadata": {},
   "source": [
    "Then we can obtain pairs of predictions and uncertainties"
   ]
  },
  {
   "cell_type": "code",
   "execution_count": 43,
   "metadata": {
    "ExecuteTime": {
     "end_time": "2020-10-09T15:47:44.908779Z",
     "start_time": "2020-10-09T15:47:44.625175Z"
    }
   },
   "outputs": [],
   "source": [
    "polit_y_pred_uncert = uncertainty_wrapper.predict(tfidf_vectorizer.transform(polit_X_test))"
   ]
  },
  {
   "cell_type": "code",
   "execution_count": 44,
   "metadata": {},
   "outputs": [
    {
     "data": {
      "text/plain": [
       "array([[1.00000000e+00, 6.57305241e-01],\n",
       "       [1.00000000e+00, 6.80759788e-01],\n",
       "       [1.00000000e+00, 6.92586303e-01],\n",
       "       [0.00000000e+00, 2.12703019e-01],\n",
       "       [1.00000000e+00, 6.70427084e-01],\n",
       "       [1.00000000e+00, 6.80049539e-01],\n",
       "       [0.00000000e+00, 5.05754678e-03],\n",
       "       [1.00000000e+00, 6.20144606e-01],\n",
       "       [0.00000000e+00, 1.76773876e-01],\n",
       "       [0.00000000e+00, 3.55654880e-02],\n",
       "       [1.00000000e+00, 1.37789369e-01],\n",
       "       [0.00000000e+00, 5.24923325e-01],\n",
       "       [1.00000000e+00, 5.46325207e-01],\n",
       "       [0.00000000e+00, 2.73587704e-01],\n",
       "       [0.00000000e+00, 4.30038292e-03],\n",
       "       [1.00000000e+00, 4.43076432e-01],\n",
       "       [1.00000000e+00, 6.25650048e-01],\n",
       "       [0.00000000e+00, 6.08548760e-01],\n",
       "       [0.00000000e+00, 6.42727375e-01],\n",
       "       [0.00000000e+00, 2.05898210e-01],\n",
       "       [0.00000000e+00, 3.46344374e-02],\n",
       "       [0.00000000e+00, 7.46515319e-02],\n",
       "       [1.00000000e+00, 2.84593791e-01],\n",
       "       [1.00000000e+00, 6.29971623e-01],\n",
       "       [1.00000000e+00, 6.28448129e-01],\n",
       "       [1.00000000e+00, 6.62565589e-01],\n",
       "       [0.00000000e+00, 2.96242051e-02],\n",
       "       [1.00000000e+00, 2.08605960e-01],\n",
       "       [0.00000000e+00, 1.13176825e-02],\n",
       "       [0.00000000e+00, 6.03903294e-01],\n",
       "       [1.00000000e+00, 5.96075118e-01],\n",
       "       [1.00000000e+00, 6.88348413e-01],\n",
       "       [0.00000000e+00, 1.74643591e-01],\n",
       "       [1.00000000e+00, 6.75628543e-01],\n",
       "       [0.00000000e+00, 7.19024092e-02],\n",
       "       [0.00000000e+00, 4.83150110e-02],\n",
       "       [0.00000000e+00, 5.38894348e-02],\n",
       "       [1.00000000e+00, 6.82181418e-01],\n",
       "       [0.00000000e+00, 6.52545810e-01],\n",
       "       [0.00000000e+00, 2.00616598e-01],\n",
       "       [1.00000000e+00, 5.79710603e-01],\n",
       "       [1.00000000e+00, 5.99124789e-01],\n",
       "       [1.00000000e+00, 6.52631223e-01],\n",
       "       [1.00000000e+00, 4.71996278e-01],\n",
       "       [0.00000000e+00, 1.74763910e-02],\n",
       "       [0.00000000e+00, 2.77733058e-01],\n",
       "       [0.00000000e+00, 3.85862592e-11],\n",
       "       [1.00000000e+00, 6.73327327e-01],\n",
       "       [0.00000000e+00, 3.06242615e-01],\n",
       "       [1.00000000e+00, 4.78834718e-01],\n",
       "       [1.00000000e+00, 6.54266238e-01],\n",
       "       [0.00000000e+00, 5.36805630e-01],\n",
       "       [1.00000000e+00, 6.90514147e-01],\n",
       "       [1.00000000e+00, 5.79476953e-01],\n",
       "       [1.00000000e+00, 6.43725753e-01],\n",
       "       [0.00000000e+00, 1.12527618e-02],\n",
       "       [1.00000000e+00, 6.65182352e-01],\n",
       "       [1.00000000e+00, 6.82805836e-01],\n",
       "       [0.00000000e+00, 3.57384562e-01],\n",
       "       [0.00000000e+00, 1.35814711e-01],\n",
       "       [1.00000000e+00, 6.54293299e-01],\n",
       "       [1.00000000e+00, 6.40496552e-01],\n",
       "       [0.00000000e+00, 4.67911959e-01],\n",
       "       [1.00000000e+00, 6.62384868e-01],\n",
       "       [1.00000000e+00, 3.39663327e-01],\n",
       "       [1.00000000e+00, 5.79609692e-01],\n",
       "       [1.00000000e+00, 6.81954205e-01],\n",
       "       [0.00000000e+00, 6.22278214e-01],\n",
       "       [0.00000000e+00, 9.93223935e-02],\n",
       "       [1.00000000e+00, 6.88329458e-01],\n",
       "       [0.00000000e+00, 8.11164016e-14],\n",
       "       [0.00000000e+00, 3.83804977e-01],\n",
       "       [0.00000000e+00, 6.41337276e-01],\n",
       "       [0.00000000e+00, 4.40447032e-01],\n",
       "       [0.00000000e+00, 2.27750316e-01],\n",
       "       [1.00000000e+00, 6.62109017e-01],\n",
       "       [0.00000000e+00, 1.83182165e-01],\n",
       "       [0.00000000e+00, 6.55158401e-01],\n",
       "       [0.00000000e+00, 3.59525800e-01],\n",
       "       [1.00000000e+00, 5.58231473e-01],\n",
       "       [0.00000000e+00, 6.63506746e-01],\n",
       "       [0.00000000e+00, 1.46344617e-01],\n",
       "       [1.00000000e+00, 6.62273169e-01],\n",
       "       [0.00000000e+00, 6.00523174e-01],\n",
       "       [0.00000000e+00, 5.54631821e-14],\n",
       "       [1.00000000e+00, 6.06843770e-01],\n",
       "       [0.00000000e+00, 2.63191313e-02],\n",
       "       [1.00000000e+00, 6.87586665e-01],\n",
       "       [1.00000000e+00, 5.62500477e-01],\n",
       "       [0.00000000e+00, 7.98377767e-03],\n",
       "       [0.00000000e+00, 6.68468773e-01],\n",
       "       [0.00000000e+00, 7.90724717e-03],\n",
       "       [0.00000000e+00, 6.71694279e-01],\n",
       "       [0.00000000e+00, 3.86131450e-17],\n",
       "       [1.00000000e+00, 6.65610671e-01],\n",
       "       [0.00000000e+00, 3.21765512e-01],\n",
       "       [0.00000000e+00, 5.37367258e-03],\n",
       "       [1.00000000e+00, 5.12907445e-01],\n",
       "       [0.00000000e+00, 2.44101942e-01],\n",
       "       [1.00000000e+00, 6.67936206e-01],\n",
       "       [1.00000000e+00, 5.06928802e-01],\n",
       "       [0.00000000e+00, 4.47535999e-02],\n",
       "       [0.00000000e+00, 5.36658205e-02],\n",
       "       [0.00000000e+00, 8.51053279e-04],\n",
       "       [1.00000000e+00, 6.73126698e-01],\n",
       "       [1.00000000e+00, 5.24127603e-01],\n",
       "       [0.00000000e+00, 4.20855045e-01],\n",
       "       [0.00000000e+00, 5.49436212e-01],\n",
       "       [0.00000000e+00, 6.42079473e-01],\n",
       "       [1.00000000e+00, 6.83476865e-01],\n",
       "       [1.00000000e+00, 5.15885115e-01],\n",
       "       [1.00000000e+00, 5.87340236e-01],\n",
       "       [1.00000000e+00, 6.43607140e-01],\n",
       "       [0.00000000e+00, 5.61032442e-15],\n",
       "       [0.00000000e+00, 5.47842741e-01],\n",
       "       [1.00000000e+00, 6.13855124e-01],\n",
       "       [0.00000000e+00, 3.05479348e-01],\n",
       "       [0.00000000e+00, 6.02545261e-01],\n",
       "       [0.00000000e+00, 2.60999411e-01],\n",
       "       [0.00000000e+00, 8.44648927e-02],\n",
       "       [0.00000000e+00, 5.13042212e-01],\n",
       "       [0.00000000e+00, 3.82224470e-01],\n",
       "       [0.00000000e+00, 2.16117901e-09],\n",
       "       [0.00000000e+00, 1.36050254e-01],\n",
       "       [0.00000000e+00, 4.81981598e-02],\n",
       "       [0.00000000e+00, 9.08896998e-02],\n",
       "       [0.00000000e+00, 5.73204517e-01],\n",
       "       [0.00000000e+00, 1.41854825e-17],\n",
       "       [0.00000000e+00, 1.76299125e-01],\n",
       "       [1.00000000e+00, 5.94443321e-01],\n",
       "       [0.00000000e+00, 6.67736650e-01],\n",
       "       [0.00000000e+00, 3.58741105e-01],\n",
       "       [0.00000000e+00, 5.69366179e-02],\n",
       "       [1.00000000e+00, 4.36501950e-01],\n",
       "       [0.00000000e+00, 2.51120687e-01],\n",
       "       [0.00000000e+00, 2.66922146e-01],\n",
       "       [0.00000000e+00, 6.27656221e-01],\n",
       "       [0.00000000e+00, 4.93555725e-01],\n",
       "       [0.00000000e+00, 2.44963229e-01],\n",
       "       [0.00000000e+00, 2.82566190e-01],\n",
       "       [1.00000000e+00, 6.34990871e-01],\n",
       "       [0.00000000e+00, 2.86741704e-01],\n",
       "       [0.00000000e+00, 2.85404205e-01],\n",
       "       [0.00000000e+00, 3.00047640e-02],\n",
       "       [1.00000000e+00, 4.80314583e-01],\n",
       "       [1.00000000e+00, 5.38107753e-01],\n",
       "       [0.00000000e+00, 3.46163452e-01],\n",
       "       [0.00000000e+00, 1.03728227e-01],\n",
       "       [1.00000000e+00, 6.61606073e-01],\n",
       "       [0.00000000e+00, 7.94917047e-02],\n",
       "       [0.00000000e+00, 1.15448356e-01],\n",
       "       [1.00000000e+00, 6.64793313e-01],\n",
       "       [1.00000000e+00, 6.84697449e-01],\n",
       "       [0.00000000e+00, 4.26232278e-01],\n",
       "       [1.00000000e+00, 6.90376282e-01],\n",
       "       [0.00000000e+00, 6.37359917e-01],\n",
       "       [1.00000000e+00, 3.86027277e-01],\n",
       "       [0.00000000e+00, 4.90611076e-01],\n",
       "       [0.00000000e+00, 6.74960040e-24],\n",
       "       [1.00000000e+00, 5.72628856e-01],\n",
       "       [0.00000000e+00, 1.49966356e-17],\n",
       "       [1.00000000e+00, 6.72940969e-01],\n",
       "       [0.00000000e+00, 6.69330120e-01],\n",
       "       [1.00000000e+00, 6.71911240e-01],\n",
       "       [1.00000000e+00, 6.65955007e-01],\n",
       "       [0.00000000e+00, 8.24203726e-12],\n",
       "       [1.00000000e+00, 6.10106051e-01],\n",
       "       [1.00000000e+00, 6.61169291e-01],\n",
       "       [1.00000000e+00, 6.36796713e-01],\n",
       "       [1.00000000e+00, 5.42352378e-01],\n",
       "       [1.00000000e+00, 2.38103747e-01],\n",
       "       [1.00000000e+00, 3.98534758e-05],\n",
       "       [0.00000000e+00, 6.50635839e-01],\n",
       "       [1.00000000e+00, 4.26361591e-01],\n",
       "       [1.00000000e+00, 6.13118052e-01],\n",
       "       [1.00000000e+00, 5.50816953e-01],\n",
       "       [1.00000000e+00, 6.71247303e-01],\n",
       "       [0.00000000e+00, 5.82981035e-02],\n",
       "       [0.00000000e+00, 1.74161121e-01],\n",
       "       [0.00000000e+00, 3.50980997e-01],\n",
       "       [1.00000000e+00, 6.84104800e-01],\n",
       "       [1.00000000e+00, 3.73076081e-01],\n",
       "       [0.00000000e+00, 4.31369960e-01],\n",
       "       [0.00000000e+00, 1.06758222e-01],\n",
       "       [1.00000000e+00, 1.16561167e-01],\n",
       "       [0.00000000e+00, 4.78200242e-03],\n",
       "       [1.00000000e+00, 5.82413852e-01],\n",
       "       [1.00000000e+00, 6.59971058e-01],\n",
       "       [1.00000000e+00, 6.09927952e-01],\n",
       "       [0.00000000e+00, 2.89227072e-18],\n",
       "       [1.00000000e+00, 6.87661231e-01],\n",
       "       [1.00000000e+00, 6.92667663e-01],\n",
       "       [0.00000000e+00, 3.56017947e-01],\n",
       "       [0.00000000e+00, 4.30050120e-03],\n",
       "       [1.00000000e+00, 6.76239371e-01],\n",
       "       [1.00000000e+00, 6.57888472e-01],\n",
       "       [0.00000000e+00, 2.33353581e-02],\n",
       "       [1.00000000e+00, 6.89557135e-01],\n",
       "       [0.00000000e+00, 4.64443304e-03],\n",
       "       [1.00000000e+00, 5.84961474e-01],\n",
       "       [0.00000000e+00, 5.19663468e-02],\n",
       "       [0.00000000e+00, 6.04530692e-01],\n",
       "       [1.00000000e+00, 5.97015977e-01],\n",
       "       [1.00000000e+00, 5.83606005e-01],\n",
       "       [1.00000000e+00, 6.39948726e-01],\n",
       "       [0.00000000e+00, 2.88300306e-01],\n",
       "       [1.00000000e+00, 5.35989821e-01],\n",
       "       [1.00000000e+00, 6.75381064e-01],\n",
       "       [0.00000000e+00, 6.52198651e-08],\n",
       "       [0.00000000e+00, 5.53489923e-01],\n",
       "       [0.00000000e+00, 5.67316949e-01],\n",
       "       [0.00000000e+00, 5.79264820e-01],\n",
       "       [1.00000000e+00, 1.56852424e-01],\n",
       "       [1.00000000e+00, 6.78621173e-01],\n",
       "       [0.00000000e+00, 5.54692149e-01],\n",
       "       [0.00000000e+00, 3.25216651e-01],\n",
       "       [0.00000000e+00, 5.94176173e-01],\n",
       "       [0.00000000e+00, 4.32153754e-02],\n",
       "       [1.00000000e+00, 6.83152318e-01],\n",
       "       [1.00000000e+00, 5.88519573e-01],\n",
       "       [1.00000000e+00, 5.44389665e-01],\n",
       "       [1.00000000e+00, 5.95739186e-01],\n",
       "       [0.00000000e+00, 5.25862932e-01],\n",
       "       [1.00000000e+00, 6.74966753e-01],\n",
       "       [1.00000000e+00, 6.86268032e-01],\n",
       "       [0.00000000e+00, 4.16551650e-01],\n",
       "       [0.00000000e+00, 1.90461949e-01],\n",
       "       [1.00000000e+00, 5.42344868e-01],\n",
       "       [0.00000000e+00, 4.79393631e-01],\n",
       "       [1.00000000e+00, 6.41187131e-01],\n",
       "       [0.00000000e+00, 2.84697652e-08],\n",
       "       [1.00000000e+00, 6.31042480e-01],\n",
       "       [0.00000000e+00, 2.10741803e-01],\n",
       "       [0.00000000e+00, 8.22098032e-02],\n",
       "       [0.00000000e+00, 6.93960115e-02],\n",
       "       [0.00000000e+00, 5.90045571e-01],\n",
       "       [0.00000000e+00, 6.34229898e-01],\n",
       "       [1.00000000e+00, 6.60958052e-01],\n",
       "       [0.00000000e+00, 6.67935789e-01],\n",
       "       [0.00000000e+00, 6.61123872e-01],\n",
       "       [0.00000000e+00, 5.89325070e-01],\n",
       "       [1.00000000e+00, 6.35195494e-01],\n",
       "       [1.00000000e+00, 5.05750626e-02],\n",
       "       [0.00000000e+00, 3.72978635e-02],\n",
       "       [0.00000000e+00, 6.05612636e-01],\n",
       "       [0.00000000e+00, 1.79096609e-01],\n",
       "       [1.00000000e+00, 6.69876575e-01],\n",
       "       [0.00000000e+00, 6.43790305e-01],\n",
       "       [0.00000000e+00, 2.30424315e-01],\n",
       "       [1.00000000e+00, 6.71832800e-01],\n",
       "       [0.00000000e+00, 3.99713106e-02],\n",
       "       [1.00000000e+00, 6.22428238e-01],\n",
       "       [0.00000000e+00, 2.63159156e-01],\n",
       "       [0.00000000e+00, 3.26202244e-01],\n",
       "       [1.00000000e+00, 5.55401206e-01],\n",
       "       [0.00000000e+00, 5.76592796e-02],\n",
       "       [1.00000000e+00, 6.51397467e-01],\n",
       "       [0.00000000e+00, 4.92302537e-01],\n",
       "       [0.00000000e+00, 2.98690274e-02],\n",
       "       [0.00000000e+00, 4.01718579e-02],\n",
       "       [0.00000000e+00, 2.35620737e-01],\n",
       "       [0.00000000e+00, 4.89834428e-01],\n",
       "       [0.00000000e+00, 4.30034986e-03],\n",
       "       [1.00000000e+00, 6.81952834e-01],\n",
       "       [1.00000000e+00, 5.02877831e-01],\n",
       "       [0.00000000e+00, 6.73710525e-01],\n",
       "       [1.00000000e+00, 5.73044121e-01],\n",
       "       [0.00000000e+00, 3.18682343e-02],\n",
       "       [1.00000000e+00, 5.73631823e-01],\n",
       "       [1.00000000e+00, 4.70976412e-01],\n",
       "       [0.00000000e+00, 1.03545651e-01],\n",
       "       [0.00000000e+00, 3.79561335e-01],\n",
       "       [0.00000000e+00, 1.20194823e-01],\n",
       "       [1.00000000e+00, 5.88911116e-01],\n",
       "       [0.00000000e+00, 3.73493582e-01],\n",
       "       [0.00000000e+00, 1.14500134e-21],\n",
       "       [0.00000000e+00, 3.16277817e-02],\n",
       "       [0.00000000e+00, 9.05771043e-17],\n",
       "       [1.00000000e+00, 6.88885391e-01],\n",
       "       [0.00000000e+00, 6.09819889e-01],\n",
       "       [0.00000000e+00, 3.11770290e-01],\n",
       "       [0.00000000e+00, 5.75528324e-01],\n",
       "       [0.00000000e+00, 2.30124652e-01],\n",
       "       [0.00000000e+00, 3.32427025e-01],\n",
       "       [0.00000000e+00, 2.09549963e-02],\n",
       "       [1.00000000e+00, 8.52479562e-02],\n",
       "       [0.00000000e+00, 4.85957801e-01],\n",
       "       [0.00000000e+00, 1.95486605e-01],\n",
       "       [1.00000000e+00, 6.67879462e-01],\n",
       "       [1.00000000e+00, 8.90289545e-02],\n",
       "       [1.00000000e+00, 6.41766787e-01],\n",
       "       [0.00000000e+00, 5.87964356e-01],\n",
       "       [1.00000000e+00, 6.82667136e-01],\n",
       "       [0.00000000e+00, 3.34034652e-01],\n",
       "       [0.00000000e+00, 6.71542168e-01],\n",
       "       [0.00000000e+00, 2.49923617e-01],\n",
       "       [1.00000000e+00, 6.21671259e-01],\n",
       "       [1.00000000e+00, 6.04066491e-01],\n",
       "       [0.00000000e+00, 1.42058343e-01],\n",
       "       [1.00000000e+00, 6.31986260e-01],\n",
       "       [1.00000000e+00, 6.57245159e-01],\n",
       "       [0.00000000e+00, 6.40519023e-01],\n",
       "       [1.00000000e+00, 6.52926564e-01],\n",
       "       [0.00000000e+00, 2.51452178e-02],\n",
       "       [0.00000000e+00, 6.24635458e-01],\n",
       "       [0.00000000e+00, 6.47150934e-01],\n",
       "       [1.00000000e+00, 6.87265635e-01],\n",
       "       [0.00000000e+00, 1.76138803e-02],\n",
       "       [0.00000000e+00, 6.43198311e-01],\n",
       "       [0.00000000e+00, 4.30038944e-03],\n",
       "       [0.00000000e+00, 1.15809210e-01],\n",
       "       [0.00000000e+00, 6.77876770e-02],\n",
       "       [0.00000000e+00, 1.54364017e-07],\n",
       "       [0.00000000e+00, 1.46782035e-02],\n",
       "       [1.00000000e+00, 6.87865138e-01],\n",
       "       [1.00000000e+00, 5.56887746e-01],\n",
       "       [0.00000000e+00, 1.46817178e-01],\n",
       "       [0.00000000e+00, 3.88528168e-01],\n",
       "       [0.00000000e+00, 3.80838603e-01],\n",
       "       [1.00000000e+00, 6.76931560e-01],\n",
       "       [1.00000000e+00, 4.17380273e-01],\n",
       "       [0.00000000e+00, 5.92285156e-01],\n",
       "       [0.00000000e+00, 5.84745049e-01],\n",
       "       [0.00000000e+00, 2.78799622e-10],\n",
       "       [0.00000000e+00, 5.97178698e-01],\n",
       "       [1.00000000e+00, 5.97124934e-01],\n",
       "       [0.00000000e+00, 6.59526110e-01],\n",
       "       [0.00000000e+00, 4.30345349e-03],\n",
       "       [0.00000000e+00, 2.30449229e-01],\n",
       "       [1.00000000e+00, 6.75566256e-01],\n",
       "       [0.00000000e+00, 6.51987195e-01],\n",
       "       [1.00000000e+00, 6.17495656e-01],\n",
       "       [1.00000000e+00, 5.05456746e-01],\n",
       "       [0.00000000e+00, 6.35844111e-01],\n",
       "       [1.00000000e+00, 6.04429960e-01],\n",
       "       [1.00000000e+00, 5.66413403e-01],\n",
       "       [1.00000000e+00, 4.25950289e-01],\n",
       "       [1.00000000e+00, 6.62986755e-01],\n",
       "       [0.00000000e+00, 1.35130546e-12],\n",
       "       [0.00000000e+00, 5.38463965e-02],\n",
       "       [0.00000000e+00, 1.12782465e-02],\n",
       "       [0.00000000e+00, 6.19929075e-01],\n",
       "       [1.00000000e+00, 1.37602091e-01],\n",
       "       [1.00000000e+00, 6.26669943e-01],\n",
       "       [0.00000000e+00, 3.82411554e-02],\n",
       "       [0.00000000e+00, 8.43255222e-03],\n",
       "       [1.00000000e+00, 6.51207507e-01],\n",
       "       [0.00000000e+00, 4.61822115e-02],\n",
       "       [0.00000000e+00, 2.72974908e-01],\n",
       "       [0.00000000e+00, 3.86622071e-01],\n",
       "       [0.00000000e+00, 3.68503362e-01],\n",
       "       [0.00000000e+00, 6.85612142e-01],\n",
       "       [0.00000000e+00, 2.53722548e-01],\n",
       "       [0.00000000e+00, 7.07968846e-02],\n",
       "       [0.00000000e+00, 9.13180411e-02],\n",
       "       [0.00000000e+00, 5.56475222e-01],\n",
       "       [0.00000000e+00, 7.28434528e-15],\n",
       "       [0.00000000e+00, 3.26369336e-04],\n",
       "       [0.00000000e+00, 5.97861767e-01],\n",
       "       [0.00000000e+00, 5.97377658e-01],\n",
       "       [1.00000000e+00, 3.96262378e-01],\n",
       "       [1.00000000e+00, 6.17166638e-01],\n",
       "       [0.00000000e+00, 5.59122324e-01],\n",
       "       [1.00000000e+00, 5.64795256e-01],\n",
       "       [1.00000000e+00, 5.16258180e-01],\n",
       "       [0.00000000e+00, 4.38434064e-01],\n",
       "       [1.00000000e+00, 6.73733592e-01],\n",
       "       [0.00000000e+00, 2.42231712e-02],\n",
       "       [0.00000000e+00, 5.15040994e-01],\n",
       "       [1.00000000e+00, 6.79554343e-01],\n",
       "       [1.00000000e+00, 6.55628264e-01],\n",
       "       [1.00000000e+00, 6.71302378e-01],\n",
       "       [1.00000000e+00, 6.78662479e-01],\n",
       "       [0.00000000e+00, 2.01163113e-01],\n",
       "       [0.00000000e+00, 6.26568079e-01],\n",
       "       [0.00000000e+00, 1.17299624e-01],\n",
       "       [0.00000000e+00, 9.03973579e-02],\n",
       "       [0.00000000e+00, 1.44037511e-02],\n",
       "       [1.00000000e+00, 4.82503474e-01],\n",
       "       [0.00000000e+00, 3.97340626e-01],\n",
       "       [1.00000000e+00, 6.57578349e-01],\n",
       "       [0.00000000e+00, 2.01223880e-01],\n",
       "       [1.00000000e+00, 6.67098820e-01],\n",
       "       [1.00000000e+00, 6.84784412e-01],\n",
       "       [0.00000000e+00, 6.09484434e-01],\n",
       "       [0.00000000e+00, 6.31450176e-01],\n",
       "       [0.00000000e+00, 5.75900555e-01],\n",
       "       [0.00000000e+00, 3.04814748e-04],\n",
       "       [0.00000000e+00, 4.27375313e-18],\n",
       "       [0.00000000e+00, 2.00658925e-02],\n",
       "       [0.00000000e+00, 8.02800932e-04],\n",
       "       [0.00000000e+00, 5.09713292e-01],\n",
       "       [0.00000000e+00, 5.63417256e-01],\n",
       "       [0.00000000e+00, 4.94809955e-01],\n",
       "       [1.00000000e+00, 5.67900777e-01],\n",
       "       [1.00000000e+00, 6.89617753e-01],\n",
       "       [0.00000000e+00, 1.10862330e-02],\n",
       "       [1.00000000e+00, 6.31841063e-01],\n",
       "       [0.00000000e+00, 3.49637896e-01],\n",
       "       [1.00000000e+00, 6.24428034e-01],\n",
       "       [0.00000000e+00, 6.72002912e-01],\n",
       "       [0.00000000e+00, 5.85671663e-01],\n",
       "       [1.00000000e+00, 6.20004535e-01],\n",
       "       [0.00000000e+00, 6.97966442e-02],\n",
       "       [0.00000000e+00, 2.77308404e-01],\n",
       "       [0.00000000e+00, 6.36492252e-01],\n",
       "       [0.00000000e+00, 4.30068886e-03],\n",
       "       [0.00000000e+00, 6.39600515e-01],\n",
       "       [0.00000000e+00, 1.44584179e-02],\n",
       "       [0.00000000e+00, 4.97837923e-02],\n",
       "       [0.00000000e+00, 6.82097316e-01],\n",
       "       [0.00000000e+00, 2.31296718e-01],\n",
       "       [0.00000000e+00, 3.00492495e-02],\n",
       "       [1.00000000e+00, 5.29129744e-01],\n",
       "       [0.00000000e+00, 2.74082601e-01],\n",
       "       [1.00000000e+00, 6.30540431e-01],\n",
       "       [1.00000000e+00, 6.21068001e-01],\n",
       "       [0.00000000e+00, 3.36991102e-02],\n",
       "       [0.00000000e+00, 6.63872480e-01],\n",
       "       [0.00000000e+00, 1.04977243e-01],\n",
       "       [1.00000000e+00, 6.74058378e-01],\n",
       "       [1.00000000e+00, 5.60400605e-01],\n",
       "       [1.00000000e+00, 6.10099673e-01],\n",
       "       [0.00000000e+00, 2.05967426e-01],\n",
       "       [1.00000000e+00, 5.59723556e-01],\n",
       "       [1.00000000e+00, 5.91867864e-01],\n",
       "       [1.00000000e+00, 5.11726379e-01],\n",
       "       [0.00000000e+00, 6.05321288e-01],\n",
       "       [1.00000000e+00, 5.69517553e-01],\n",
       "       [0.00000000e+00, 1.31994218e-01],\n",
       "       [0.00000000e+00, 2.45050006e-02],\n",
       "       [0.00000000e+00, 6.50443956e-02],\n",
       "       [1.00000000e+00, 6.52442336e-01],\n",
       "       [1.00000000e+00, 6.78108990e-01],\n",
       "       [1.00000000e+00, 6.84276402e-01],\n",
       "       [1.00000000e+00, 6.11127734e-01],\n",
       "       [1.00000000e+00, 6.79259896e-01],\n",
       "       [0.00000000e+00, 1.15165010e-01],\n",
       "       [0.00000000e+00, 6.40259564e-01],\n",
       "       [1.00000000e+00, 6.64673686e-01],\n",
       "       [1.00000000e+00, 6.01809502e-01],\n",
       "       [1.00000000e+00, 5.16029000e-01],\n",
       "       [1.00000000e+00, 4.14638430e-01],\n",
       "       [0.00000000e+00, 4.22961116e-01],\n",
       "       [1.00000000e+00, 5.82536340e-01]])"
      ]
     },
     "execution_count": 44,
     "metadata": {},
     "output_type": "execute_result"
    }
   ],
   "source": [
    "polit_y_pred_uncert"
   ]
  },
  {
   "cell_type": "markdown",
   "metadata": {},
   "source": [
    "## Analyse the results"
   ]
  },
  {
   "cell_type": "markdown",
   "metadata": {
    "ExecuteTime": {
     "end_time": "2020-10-02T07:53:13.004644Z",
     "start_time": "2020-10-02T07:53:12.999764Z"
    }
   },
   "source": [
    "We compare the accuracy when removing the predictions that are more uncertain in the new problem"
   ]
  },
  {
   "cell_type": "code",
   "execution_count": 45,
   "metadata": {},
   "outputs": [
    {
     "name": "stdout",
     "output_type": "stream",
     "text": [
      "accuracy of the black-box for politics: 0.7101123595505618\n"
     ]
    }
   ],
   "source": [
    "polit_y_pred = polit_y_pred_uncert[:, 0]\n",
    "polit_y_uncerts = polit_y_pred_uncert[:, 1]\n",
    "print('accuracy of the black-box for politics: {}'.format(accuracy_score(polit_y_test, polit_y_pred)))"
   ]
  },
  {
   "cell_type": "code",
   "execution_count": 46,
   "metadata": {},
   "outputs": [
    {
     "data": {
      "image/png": "[encoded data removed]",
      "text/plain": [
       "<Figure size 720x720 with 1 Axes>"
      ]
     },
     "metadata": {
      "needs_background": "light"
     },
     "output_type": "display_data"
    }
   ],
   "source": [
    "%matplotlib inline\n",
    "from matplotlib import pyplot as plt\n",
    "plt.figure(figsize=(10,10))\n",
    "plt.hist(polit_y_uncerts, bins=30, label='uncertainties');"
   ]
  },
  {
   "cell_type": "code",
   "execution_count": 48,
   "metadata": {
    "ExecuteTime": {
     "end_time": "2020-10-09T15:47:46.565537Z",
     "start_time": "2020-10-09T15:47:46.556339Z"
    }
   },
   "outputs": [
    {
     "name": "stdout",
     "output_type": "stream",
     "text": [
      "accuracy of the black-box for politics for keeping the more 262 confident preds out of 445(58.9%): 0.851145038167939\n"
     ]
    }
   ],
   "source": [
    "UNCERTAINTY_THRESHOLD = 0.5\n",
    "confident_texts = np.count_nonzero(polit_y_uncertain_preds_indexes)\n",
    "total_texts = polit_y_uncerts.shape[0]\n",
    "percentage = (confident_texts / total_texts)\n",
    "accuracy = accuracy_score(np.array(polit_y_test)[polit_y_uncertain_preds_indexes],\n",
    "                   polit_y_pred[polit_y_uncertain_preds_indexes])\n",
    "polit_y_uncertain_preds_indexes = polit_y_uncerts < UNCERTAINTY_THRESHOLD\n",
    "print('accuracy of the black-box for politics for keeping the more {} confident preds out of {}({:.1%}): {}'.format(\n",
    "    confident_texts,\n",
    "    total_texts,\n",
    "    percentage,\n",
    "    accuracy\n",
    "    ))"
   ]
  },
  {
   "cell_type": "markdown",
   "metadata": {},
   "source": [
    "We can observe how the accuracy of the system when applied to the preserved data points has increased in almost 5 points."
   ]
  },
  {
   "cell_type": "code",
   "execution_count": null,
   "metadata": {},
   "outputs": [],
   "source": []
  }
 ],
 "metadata": {
  "kernelspec": {
   "display_name": "Python 3",
   "language": "python",
   "name": "python3"
  },
  "language_info": {
   "codemirror_mode": {
    "name": "ipython",
    "version": 3
   },
   "file_extension": ".py",
   "mimetype": "text/x-python",
   "name": "python",
   "nbconvert_exporter": "python",
   "pygments_lexer": "ipython3",
   "version": "3.6.2"
  },
  "latex_envs": {
   "LaTeX_envs_menu_present": true,
   "autoclose": false,
   "autocomplete": true,
   "bibliofile": "biblio.bib",
   "cite_by": "apalike",
   "current_citInitial": 1,
   "eqLabelWithNumbers": true,
   "eqNumInitial": 1,
   "hotkeys": {
    "equation": "Ctrl-E",
    "itemize": "Ctrl-I"
   },
   "labels_anchors": false,
   "latex_user_defs": false,
   "report_style_numbering": false,
   "user_envs_cfg": false
  },
  "varInspector": {
   "cols": {
    "lenName": 16,
    "lenType": 16,
    "lenVar": 40
   },
   "kernels_config": {
    "python": {
     "delete_cmd_postfix": "",
     "delete_cmd_prefix": "del ",
     "library": "var_list.py",
     "varRefreshCmd": "print(var_dic_list())"
    },
    "r": {
     "delete_cmd_postfix": ") ",
     "delete_cmd_prefix": "rm(",
     "library": "var_list.r",
     "varRefreshCmd": "cat(var_dic_list()) "
    }
   },
   "types_to_exclude": [
    "module",
    "function",
    "builtin_function_or_method",
    "instance",
    "_Feature"
   ],
   "window_display": false
  }
 },
 "nbformat": 4,
 "nbformat_minor": 4
}
