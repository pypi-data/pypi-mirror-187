{
 "cells": [
  {
   "cell_type": "markdown",
   "id": "71436cb4-71f9-4d14-b7e4-82c6b5739aaf",
   "metadata": {},
   "source": [
    "# Utilisation du module `repr`\n"
   ]
  },
  {
   "cell_type": "code",
   "execution_count": 2,
   "id": "7cdca45c-a6a5-4257-9d47-9e9303f0d517",
   "metadata": {},
   "outputs": [],
   "source": [
    "from lyceum.repr import bin2float"
   ]
  },
  {
   "cell_type": "code",
   "execution_count": 3,
   "id": "423ff059-4a2f-462c-a834-c065bb8482f0",
   "metadata": {},
   "outputs": [
    {
     "data": {
      "text/plain": [
       "0.046875"
      ]
     },
     "execution_count": 3,
     "metadata": {},
     "output_type": "execute_result"
    }
   ],
   "source": [
    "# simple précision\n",
    "bin2float(\"00111101 01000000 00000000 00000000\")"
   ]
  },
  {
   "cell_type": "code",
   "execution_count": 14,
   "id": "3ff6ac91-0d70-4c82-a4f1-45b575e6a735",
   "metadata": {},
   "outputs": [
    {
     "data": {
      "text/plain": [
       "-2.0625"
      ]
     },
     "execution_count": 14,
     "metadata": {},
     "output_type": "execute_result"
    }
   ],
   "source": [
    "# demi précision\n",
    "bin2float(\"11000000 00100000\")"
   ]
  },
  {
   "cell_type": "code",
   "execution_count": 8,
   "id": "088fb302-393d-4e7e-8b36-5da5a13933d7",
   "metadata": {},
   "outputs": [
    {
     "data": {
      "text/plain": [
       "0.017578125"
      ]
     },
     "execution_count": 8,
     "metadata": {},
     "output_type": "execute_result"
    }
   ],
   "source": [
    "1.125*2**-6"
   ]
  }
 ],
 "metadata": {
  "kernelspec": {
   "display_name": "Python 3 (ipykernel)",
   "language": "python",
   "name": "python3"
  },
  "language_info": {
   "codemirror_mode": {
    "name": "ipython",
    "version": 3
   },
   "file_extension": ".py",
   "mimetype": "text/x-python",
   "name": "python",
   "nbconvert_exporter": "python",
   "pygments_lexer": "ipython3",
   "version": "3.10.8"
  }
 },
 "nbformat": 4,
 "nbformat_minor": 5
}
