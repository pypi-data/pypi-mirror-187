{
 "cells": [
  {
   "cell_type": "code",
   "execution_count": 1,
   "id": "b3a001c7",
   "metadata": {},
   "outputs": [],
   "source": [
    "import math\n",
    "import faerun_notebook\n",
    "import numpy as np\n",
    "import ipywidgets as widgets"
   ]
  },
  {
   "cell_type": "code",
   "execution_count": 2,
   "id": "f985ade4",
   "metadata": {
    "scrolled": false
   },
   "outputs": [
    {
     "data": {
      "application/vnd.jupyter.widget-view+json": {
       "model_id": "57e78efe8695466b84d02f7c67ed12e8",
       "version_major": 2,
       "version_minor": 0
      },
      "text/plain": [
       "GridspecLayout(children=(Faerun(c=[[255, 174, 0], [150, 255, 95], [0, 72, 255], [176, 255, 70], [128, 255, 118…"
      ]
     },
     "metadata": {},
     "output_type": "display_data"
    }
   ],
   "source": [
    "N = 200\n",
    "x = list(np.random.randn(N) * 100)\n",
    "y = list(np.random.randn(N) * 100)\n",
    "c = list(np.random.randn(N) * 100)\n",
    "s = list(np.random.randint(N, size=50))\n",
    "t = list(np.random.randint(N, size=50))\n",
    "\n",
    "labels = list(np.random.choice([\n",
    "    \"CCN1CNS(=O)(=O)c2cc(Cl)sc21\", \n",
    "    \"COc1ccc2c(c1)C(=O)c1ccc(Nc3ccc(F)cc3F)cc1OC2\", \n",
    "    \"CCCC(C)O\",\n",
    "    \"COc1ccc(CNc2ccc(N3CCC(O)CC3)c(C(=O)NCC3CC3)c2)cc1F\",\n",
    "    \"NC(=O)c1cccc(-c2ccc(F)cc2)c1\",\n",
    "    \"Cc1cc(Cl)ccc1-c1ccc(NC(=O)N2CCc3cccc(N4CCN(C)CC4)c3C2)nc1\"\n",
    "], N))\n",
    "\n",
    "faerun = faerun_notebook.Faerun(\n",
    "    x=x, \n",
    "    y=y,\n",
    "    c=c,\n",
    "    s=s,\n",
    "    t=t,\n",
    "    width=400, height=800, \n",
    "    background_color=\"#ffffff\",\n",
    "    full_width=True,\n",
    "    cmap=\"jet\",\n",
    ")\n",
    "\n",
    "label_title_hovered = widgets.Label(\"Hovered\")\n",
    "label_title_selected = widgets.Label(\"Selected\")\n",
    "\n",
    "sd_hovered = faerun_notebook.SmilesDrawer(value=\"CNCNCN\", options={\"scale\": None})\n",
    "sd_selected = faerun_notebook.SmilesDrawer(value=\"CNCNCN\", options={\"scale\": None})\n",
    "\n",
    "box_hovered = widgets.VBox([label_title_hovered, sd_hovered])\n",
    "box_selected = widgets.VBox([label_title_selected, sd_selected])\n",
    "\n",
    "def handle_index_change(change):\n",
    "    if change.new >= 1:\n",
    "        sd_hovered.value = labels[change.new]\n",
    "        \n",
    "def handle_selected_index_change(change):\n",
    "    if change.new >= 1:\n",
    "        sd_selected.value = labels[change.new]\n",
    "\n",
    "faerun.observe(handle_index_change, names='hovered_index')\n",
    "faerun.observe(handle_selected_index_change, names='selected_index')\n",
    "\n",
    "grid = widgets.GridspecLayout(2, 3)\n",
    "\n",
    "grid[:, :2] = faerun\n",
    "grid[0, 2] = box_hovered\n",
    "grid[1, 2] = box_selected\n",
    "grid\n",
    "# widgetLink = widgets.link((faerun, 'hovered_index'), (floatTextBox, 'value'))\n",
    "\n"
   ]
  },
  {
   "cell_type": "code",
   "execution_count": 3,
   "id": "beeaf785",
   "metadata": {
    "scrolled": true
   },
   "outputs": [
    {
     "data": {
      "application/vnd.jupyter.widget-view+json": {
       "model_id": "b4ad4b5429664974af4d2c58d93ad104",
       "version_major": 2,
       "version_minor": 0
      },
      "text/plain": [
       "SmilesDrawer(background='#222', options={'scale': 1.25}, theme='matrix', value=[('A reaction!', 'O=C(O)c1cccnc…"
      ]
     },
     "metadata": {},
     "output_type": "display_data"
    }
   ],
   "source": [
    "faerun_notebook.SmilesDrawer(value=[\n",
    "    (\"A reaction!\", \"O=C(O)c1cccnc1Cl.OCc1cc(F)c(Cl)nc1Cl>>OCc1cccnc1Cl\"), \n",
    "    (\"A molecule...\", \"CNC1(CCCCC1=O)C1=CC=CC=C1Cl\"), \n",
    "    (\"A molecule...\", \"CNCNCCN\")\n",
    "], theme='matrix', background=\"#222\", options={'scale': 1.25})\n"
   ]
  },
  {
   "cell_type": "code",
   "execution_count": 8,
   "id": "3668ce30",
   "metadata": {},
   "outputs": [
    {
     "data": {
      "application/vnd.jupyter.widget-view+json": {
       "model_id": "d5279ab1679942fc999789f12c1d26a6",
       "version_major": 2,
       "version_minor": 0
      },
      "text/plain": [
       "Text(value='')"
      ]
     },
     "metadata": {},
     "output_type": "display_data"
    },
    {
     "data": {
      "application/vnd.jupyter.widget-view+json": {
       "model_id": "be711b57a4fa45a2a18ae5593c0cd053",
       "version_major": 2,
       "version_minor": 0
      },
      "text/plain": [
       "SmilesDrawer(value='NCNCN', weights=[{'reactants': [[1, 2]], 'products': [[2, 1]]}])"
      ]
     },
     "metadata": {},
     "output_type": "display_data"
    }
   ],
   "source": [
    "text = widgets.Text()\n",
    "sd = faerun_notebook.SmilesDrawer(value=\"NCNCN\",weights=[{'reactants': [[1,2]], 'products': [[2,1]]}])\n",
    "display(text, sd)\n",
    "\n",
    "widgetLink = widgets.jslink((text, 'value'), (sd, 'value'))"
   ]
  },
  {
   "cell_type": "code",
   "execution_count": null,
   "id": "aaffc0c4",
   "metadata": {},
   "outputs": [],
   "source": []
  },
  {
   "cell_type": "code",
   "execution_count": null,
   "id": "8c8ed71f",
   "metadata": {},
   "outputs": [],
   "source": []
  }
 ],
 "metadata": {
  "interpreter": {
   "hash": "a489aed770cf1f1fabff521a4db567d5b8ee8da5dfe9058e2a2de06da612c89b"
  },
  "kernelspec": {
   "display_name": "Python 3 (ipykernel)",
   "language": "python",
   "name": "python3"
  },
  "language_info": {
   "codemirror_mode": {
    "name": "ipython",
    "version": 3
   },
   "file_extension": ".py",
   "mimetype": "text/x-python",
   "name": "python",
   "nbconvert_exporter": "python",
   "pygments_lexer": "ipython3",
   "version": "3.9.5"
  }
 },
 "nbformat": 4,
 "nbformat_minor": 5
}
