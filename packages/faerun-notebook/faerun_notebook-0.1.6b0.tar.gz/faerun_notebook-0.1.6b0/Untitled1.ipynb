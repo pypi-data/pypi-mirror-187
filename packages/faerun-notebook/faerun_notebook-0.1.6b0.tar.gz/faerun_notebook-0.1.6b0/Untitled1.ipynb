{
 "cells": [
  {
   "cell_type": "code",
   "execution_count": 2,
   "id": "0cdda71b-c6aa-46b3-bc1c-fe69e42a8304",
   "metadata": {},
   "outputs": [],
   "source": [
    "from faerun_notebook import Faerun"
   ]
  },
  {
   "cell_type": "code",
   "execution_count": 3,
   "id": "e5407582-0d52-4962-a141-1ece9441142b",
   "metadata": {},
   "outputs": [
    {
     "data": {
      "application/vnd.jupyter.widget-view+json": {
       "model_id": "a33f11801d6f4fb1a9ff964cf88b7364",
       "version_major": 2,
       "version_minor": 0
      },
      "text/plain": [
       "Faerun()"
      ]
     },
     "metadata": {},
     "output_type": "display_data"
    }
   ],
   "source": [
    "Faerun()"
   ]
  },
  {
   "cell_type": "code",
   "execution_count": null,
   "id": "6fb1eb41-a313-48fd-81d3-ecb659b81a44",
   "metadata": {},
   "outputs": [],
   "source": []
  }
 ],
 "metadata": {
  "kernelspec": {
   "display_name": "Python 3 (ipykernel)",
   "language": "python",
   "name": "python3"
  },
  "language_info": {
   "codemirror_mode": {
    "name": "ipython",
    "version": 3
   },
   "file_extension": ".py",
   "mimetype": "text/x-python",
   "name": "python",
   "nbconvert_exporter": "python",
   "pygments_lexer": "ipython3",
   "version": "3.9.13"
  }
 },
 "nbformat": 4,
 "nbformat_minor": 5
}
