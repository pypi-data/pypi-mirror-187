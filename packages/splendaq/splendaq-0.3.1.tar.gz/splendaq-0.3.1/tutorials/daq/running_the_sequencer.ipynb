{
 "cells": [
  {
   "cell_type": "markdown",
   "id": "bf794a7f-9677-49be-ae3a-5de268c591d3",
   "metadata": {},
   "source": [
    "# Running the DC Sequencer\n",
    "----\n",
    "In this notebook, we will show how to run the `Sequencer` class, which has been designed for automated running of a sequencer with changing DC values. The class requires a YAML file to define the various settings, for which we will provide an example. We will show how to run the sequencer in a notebook, as well as via the `splendaq` command line interface (CLI).\n",
    "\n",
    "We assume that the user is using this functionality with a Moku:Pro in this tutorial."
   ]
  },
  {
   "cell_type": "code",
   "execution_count": null,
   "id": "2849825f-c720-4921-a149-9f5ffb9bfc17",
   "metadata": {},
   "outputs": [],
   "source": [
    "from splendaq.daq import Sequencer"
   ]
  },
  {
   "cell_type": "markdown",
   "id": "f63bfcee-c6e7-4515-ad5c-43785c80bf31",
   "metadata": {},
   "source": [
    "Below, we show an example YAML file, where we have added a placeholder value for the Moku IP address.\n",
    "\n",
    "```yaml\n",
    "moku:\n",
    "    ip: \"your_moku_ip_address\"\n",
    "    fs: 1.25e+6\n",
    "    duration_per_file: 10\n",
    "    acquisition_mode: \"Precision\"\n",
    "    force_connect: False\n",
    "input1:\n",
    "    log: True\n",
    "    vrange: \"4Vpp\"\n",
    "    impedance: \"1MOhm\"\n",
    "input2:\n",
    "    log: False\n",
    "    vrange: \"4Vpp\"\n",
    "    impedance: \"1MOhm\"\n",
    "input3:\n",
    "    log: False\n",
    "    vrange: \"4Vpp\"\n",
    "    impedance: \"1MOhm\"\n",
    "input4:\n",
    "    log: False\n",
    "    vrange: \"4Vpp\"\n",
    "    impedance: \"1MOhm\"\n",
    "output1:\n",
    "    apply: True\n",
    "    vstart: 0\n",
    "    vend: 1\n",
    "    nstep: 2\n",
    "output2:\n",
    "    apply: True\n",
    "    vstart: 0\n",
    "    vend: 1\n",
    "    nstep: 2\n",
    "output3:\n",
    "    apply: False\n",
    "    vstart: 0\n",
    "    vend: 1\n",
    "    nstep: 10\n",
    "output4:\n",
    "    apply: False\n",
    "    vstart: 0\n",
    "    vend: 1\n",
    "    nstep: 10\n",
    "```\n",
    "\n",
    "In this settings file, we have a few global settings that we can set: the ip address of the moku, the digitization rate of the data `fs`, the duration per file in number of seconds, the decimation strategy, and whether or not to force the connection (that is, boot off any possible users). We then have the various inputs and outputs of the Moku:Pro, of which there are four of each. We define which inputs to log, and which outputs to apply DC voltages with (as well as defining the beginning and end values, and number of total steps).\n",
    "\n",
    "For the IP address, ensure it is passed as a string by keeping the `\"\"` around it. If connecting via USB-C, this will be an IPv6 address, which should be enclosed with square brackets, e.g. `[your_moku_ipv6_address]`.\n",
    "\n",
    "Note that, if multiple outputs are being applied, the sequencer will log data at every possible combination of voltages natively. For example, in this case, we will log data at the voltage pairs: (0, 0), (0, 1), (1, 0), (1, 1).\n",
    "\n",
    "## Running the `Sequencer` class\n",
    "\n",
    "To run the `Sequencer` class directly, we first need to have a YAML file. We have saved the above example file to `sequencer_settings.yaml`, which we will now call (assuming the user has updated the IP address to their device)."
   ]
  },
  {
   "cell_type": "code",
   "execution_count": null,
   "id": "c1d61778-746f-4d58-9503-4e6fdff225f3",
   "metadata": {},
   "outputs": [],
   "source": [
    "SEQ = Sequencer('./sequencer_settings.yaml')\n",
    "SEQ.run(verbose=True) # verbose is true by default"
   ]
  },
  {
   "cell_type": "markdown",
   "id": "e8445d94-9bc3-4ec9-9d9d-d753cd2f8195",
   "metadata": {},
   "source": [
    "And it's that simple! Through the `splendaq` CLI, we can run the sequencer directly in the command line. Try it out with the below command."
   ]
  },
  {
   "cell_type": "code",
   "execution_count": null,
   "id": "e66c1a07-4f5c-481c-b714-b2c694b31856",
   "metadata": {},
   "outputs": [],
   "source": [
    "!splendaq sequencer sequencer_settings.yaml"
   ]
  },
  {
   "cell_type": "code",
   "execution_count": null,
   "id": "25f874d9-0964-491c-9d84-399985341050",
   "metadata": {},
   "outputs": [],
   "source": []
  }
 ],
 "metadata": {
  "kernelspec": {
   "display_name": "Python 3 (ipykernel)",
   "language": "python",
   "name": "python3"
  },
  "language_info": {
   "codemirror_mode": {
    "name": "ipython",
    "version": 3
   },
   "file_extension": ".py",
   "mimetype": "text/x-python",
   "name": "python",
   "nbconvert_exporter": "python",
   "pygments_lexer": "ipython3",
   "version": "3.10.4"
  }
 },
 "nbformat": 4,
 "nbformat_minor": 5
}
