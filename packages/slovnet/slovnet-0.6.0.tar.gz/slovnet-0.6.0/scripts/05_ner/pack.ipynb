{
 "cells": [
  {
   "cell_type": "code",
   "execution_count": 1,
   "metadata": {},
   "outputs": [],
   "source": [
    "%run main.py\n",
    "%load_ext autoreload\n",
    "%autoreload 2\n",
    "\n",
    "!mkdir -p {NAVEC_DIR} {MODEL_DIR} {PACK_DIR}\n",
    "s3 = S3()"
   ]
  },
  {
   "cell_type": "code",
   "execution_count": 2,
   "metadata": {},
   "outputs": [],
   "source": [
    "if not exists(NAVEC):\n",
    "    !wget {NAVEC_URL} -O {NAVEC}\n",
    "    s3.download(S3_MODEL_SHAPE, MODEL_SHAPE)\n",
    "    s3.download(S3_MODEL_ENCODER, MODEL_ENCODER)\n",
    "    s3.download(S3_MODEL_NER, MODEL_NER)"
   ]
  },
  {
   "cell_type": "code",
   "execution_count": null,
   "metadata": {},
   "outputs": [],
   "source": [
    "navec = Navec.load(NAVEC)\n",
    "\n",
    "words_vocab = Vocab(navec.vocab.words)\n",
    "shapes_vocab = Vocab([PAD] + SHAPES)\n",
    "tags_vocab = BIOTagsVocab(TAGS)\n",
    "\n",
    "word = NavecEmbedding(navec)\n",
    "shape = Embedding(\n",
    "    vocab_size=len(shapes_vocab),\n",
    "    dim=SHAPE_DIM,\n",
    "    pad_id=shapes_vocab.pad_id\n",
    ")\n",
    "emb = TagEmbedding(word, shape)\n",
    "encoder = TagEncoder(\n",
    "    input_dim=emb.dim,\n",
    "    layer_dims=LAYER_DIMS,\n",
    "    kernel_size=KERNEL_SIZE,\n",
    ")\n",
    "ner = NERHead(encoder.dim, len(tags_vocab))\n",
    "model = NER(emb, encoder, ner)\n",
    "model.eval()\n",
    "\n",
    "model.emb.shape.load(MODEL_SHAPE)\n",
    "model.encoder.load(MODEL_ENCODER)\n",
    "model.head.load(MODEL_NER)"
   ]
  },
  {
   "cell_type": "code",
   "execution_count": 4,
   "metadata": {},
   "outputs": [],
   "source": [
    "model = model.to_exec()\n",
    "model = model.strip_navec()\n",
    "arrays, model = model.separate_arrays()"
   ]
  },
  {
   "cell_type": "code",
   "execution_count": 5,
   "metadata": {},
   "outputs": [],
   "source": [
    "with DumpPack(PACK) as pack:\n",
    "    meta = Meta(ID)\n",
    "    pack.dump_meta(meta)\n",
    "    \n",
    "    pack.dump_model(model)\n",
    "    pack.dump_arrays(arrays)\n",
    "\n",
    "    pack.dump_vocab(words_vocab, WORD)\n",
    "    pack.dump_vocab(shapes_vocab, SHAPE)\n",
    "    pack.dump_vocab(tags_vocab, TAG)"
   ]
  },
  {
   "cell_type": "code",
   "execution_count": null,
   "metadata": {},
   "outputs": [],
   "source": [
    "ner = api.NER.load(PACK)\n",
    "ner.navec(navec)\n",
    "\n",
    "default = ['«Коронамобиль» Ангелы Меркель сняли на видео']\n",
    "custom = ['Ваш произвольный текст']\n",
    "\n",
    "chunk = custom if CUSTOM_TUNING else default\n",
    "\n",
    "markup = ner(chunk)\n",
    "\n",
    "show_span_markup(markup)"
   ]
  },
  {
   "cell_type": "code",
   "execution_count": null,
   "metadata": {},
   "outputs": [],
   "source": [
    "#s3.upload(PACK, S3_PACK)"
   ]
  },
  {
   "cell_type": "code",
   "execution_count": null,
   "metadata": {},
   "outputs": [],
   "source": []
  }
 ],
 "metadata": {
  "kernelspec": {
   "display_name": "Python 3.10.6 ('env': venv)",
   "language": "python",
   "name": "python3"
  },
  "language_info": {
   "codemirror_mode": {
    "name": "ipython",
    "version": 3
   },
   "file_extension": ".py",
   "mimetype": "text/x-python",
   "name": "python",
   "nbconvert_exporter": "python",
   "pygments_lexer": "ipython3",
   "version": "3.10.6"
  },
  "vscode": {
   "interpreter": {
    "hash": "fbd3b3cf5ce5dbcb71d33f7b8a90c542bb07cc48175c202e830100849640f809"
   }
  }
 },
 "nbformat": 4,
 "nbformat_minor": 2
}
